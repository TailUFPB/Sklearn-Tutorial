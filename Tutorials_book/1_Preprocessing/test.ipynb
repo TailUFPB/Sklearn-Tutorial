{
  "nbformat": 4,
  "nbformat_minor": 0,
  "metadata": {
    "kernelspec": {
      "display_name": "Python 3",
      "language": "python",
      "name": "python3"
    },
    "language_info": {
      "codemirror_mode": {
        "name": "ipython",
        "version": 3
      },
      "file_extension": ".py",
      "mimetype": "text/x-python",
      "name": "python",
      "nbconvert_exporter": "python",
      "pygments_lexer": "ipython3",
      "version": "3.7.5"
    },
    "colab": {
      "name": "test.ipynb",
      "provenance": [],
      "toc_visible": true,
      "include_colab_link": true
    }
  },
  "cells": [
    {
      "cell_type": "markdown",
      "metadata": {
        "id": "view-in-github",
        "colab_type": "text"
      },
      "source": [
        "<a href=\"https://colab.research.google.com/github/TailUFPB/Tutorials/blob/main/Tutorials_book/1_Preprocessing/test.ipynb\" target=\"_parent\"><img src=\"https://colab.research.google.com/assets/colab-badge.svg\" alt=\"Open In Colab\"/></a>"
      ]
    },
    {
      "cell_type": "markdown",
      "metadata": {
        "id": "k5xXV_LJUSny"
      },
      "source": [
        "# 1 Pré-processamento de dados"
      ]
    },
    {
      "cell_type": "markdown",
      "metadata": {
        "id": "x51Bv8RtUSnz"
      },
      "source": [
        "O pacote de pré-processamento do scikit-learn fornece várias funções que ajudam na conversao de atributos em uma representação que é mais adequada para os estimadores de aprendizagem de máquina.  "
      ]
    },
    {
      "cell_type": "markdown",
      "metadata": {
        "id": "PWlj9hX1VWuM"
      },
      "source": [
        "## 1.1 Padronização"
      ]
    },
    {
      "cell_type": "markdown",
      "metadata": {
        "id": "thGp4_DSVcnm"
      },
      "source": [
        "A padronização do conjunto de dados e um pré requisitos comum para\n",
        "vários estimadores de aprendizagem de máquina implementados no\n",
        "scikit-learn. Ela é util principalmente quando os valores de entrada de dados tem uma grande diferença entre seus intervalos.\n",
        "\n",
        "Ela se dá a partir da reescala do conjunto de dados para ter a média 0 e o desvio padrão de 1. Na prática, o valor da média é removido de cada atributo, então é realizada a divisão dos atributos que não são constantes pelo seu desvio padrão.\n",
        "\n",
        "Vamos falar de 4 escalares importantes do scikit-learn:\n",
        "- Scalar\n",
        "- StandarScalar\n",
        "- MinMaxScalar\n",
        "- RobustScaler"
      ]
    },
    {
      "cell_type": "code",
      "metadata": {
        "id": "YNEPHus8lK1W"
      },
      "source": [
        "from sklearn import preprocessing\n",
        "import numpy as np"
      ],
      "execution_count": 17,
      "outputs": []
    },
    {
      "cell_type": "markdown",
      "metadata": {
        "id": "aC1y5giBl6L0"
      },
      "source": [
        "### 1.1.1 Scalar"
      ]
    },
    {
      "cell_type": "code",
      "metadata": {
        "id": "RYYxyWogshhi"
      },
      "source": [
        "X_train = np.array([[ 1., -1.,  2.],\n",
        "                    [ 2.,  0.,  0.],\n",
        "                    [ 0.,  1., -1.]])"
      ],
      "execution_count": 18,
      "outputs": []
    },
    {
      "cell_type": "code",
      "metadata": {
        "id": "nFjgRcN6mIW4",
        "outputId": "374d0824-7088-4945-9865-c5f8c0858e2e",
        "colab": {
          "base_uri": "https://localhost:8080/"
        }
      },
      "source": [
        "X_scaled = preprocessing.scale(X_train)\n",
        "\n",
        "X_scaled"
      ],
      "execution_count": 19,
      "outputs": [
        {
          "output_type": "execute_result",
          "data": {
            "text/plain": [
              "array([[ 0.        , -1.22474487,  1.33630621],\n",
              "       [ 1.22474487,  0.        , -0.26726124],\n",
              "       [-1.22474487,  1.22474487, -1.06904497]])"
            ]
          },
          "metadata": {
            "tags": []
          },
          "execution_count": 19
        }
      ]
    },
    {
      "cell_type": "code",
      "metadata": {
        "id": "kKpCz9wrlsVL",
        "outputId": "1e85e718-7efa-4550-ea36-f23779ee4ee5",
        "colab": {
          "base_uri": "https://localhost:8080/"
        }
      },
      "source": [
        "X_scaled.mean(axis=0)"
      ],
      "execution_count": 20,
      "outputs": [
        {
          "output_type": "execute_result",
          "data": {
            "text/plain": [
              "array([0., 0., 0.])"
            ]
          },
          "metadata": {
            "tags": []
          },
          "execution_count": 20
        }
      ]
    },
    {
      "cell_type": "code",
      "metadata": {
        "id": "cLTbjofEltv3",
        "outputId": "48b4ae3b-9288-4d63-fdc3-f175cdc1a22d",
        "colab": {
          "base_uri": "https://localhost:8080/"
        }
      },
      "source": [
        "X_scaled.std(axis=0)"
      ],
      "execution_count": 21,
      "outputs": [
        {
          "output_type": "execute_result",
          "data": {
            "text/plain": [
              "array([1., 1., 1.])"
            ]
          },
          "metadata": {
            "tags": []
          },
          "execution_count": 21
        }
      ]
    },
    {
      "cell_type": "markdown",
      "metadata": {
        "id": "OuRg2klSVcph"
      },
      "source": [
        "### 1.1.2 StandardScalar\n",
        "\n"
      ]
    },
    {
      "cell_type": "markdown",
      "metadata": {
        "id": "vHLWsj2QjR3i"
      },
      "source": [
        "$$\\frac{x_i - mean(x)}{stdev(x)}$$"
      ]
    },
    {
      "cell_type": "code",
      "metadata": {
        "id": "HLruLawPtifb",
        "outputId": "bb949f6b-16d7-4e4d-c800-c1cd23bd6e63",
        "colab": {
          "base_uri": "https://localhost:8080/"
        }
      },
      "source": [
        "X_scaled = preprocessing.StandardScaler().fit_transform(X_train)\n",
        "\n",
        "X_scaled "
      ],
      "execution_count": 22,
      "outputs": [
        {
          "output_type": "execute_result",
          "data": {
            "text/plain": [
              "array([[ 0.        , -1.22474487,  1.33630621],\n",
              "       [ 1.22474487,  0.        , -0.26726124],\n",
              "       [-1.22474487,  1.22474487, -1.06904497]])"
            ]
          },
          "metadata": {
            "tags": []
          },
          "execution_count": 22
        }
      ]
    },
    {
      "cell_type": "markdown",
      "metadata": {
        "id": "9GzDWlG1Vcry"
      },
      "source": [
        "### 1.1.3 MinMaxScalar"
      ]
    },
    {
      "cell_type": "markdown",
      "metadata": {
        "id": "lQseC33OjSke"
      },
      "source": [
        "$$\\frac{x_i - min(x)}{max(x) - min(x)}$$"
      ]
    },
    {
      "cell_type": "code",
      "metadata": {
        "id": "XEbK_lThwSHO",
        "outputId": "587d6164-795b-438b-e083-6c8d7526d8d0",
        "colab": {
          "base_uri": "https://localhost:8080/"
        }
      },
      "source": [
        "X_scaled = preprocessing.MinMaxScaler().fit_transform(X_train)\n",
        "\n",
        "X_scaled "
      ],
      "execution_count": 23,
      "outputs": [
        {
          "output_type": "execute_result",
          "data": {
            "text/plain": [
              "array([[0.5       , 0.        , 1.        ],\n",
              "       [1.        , 0.5       , 0.33333333],\n",
              "       [0.        , 1.        , 0.        ]])"
            ]
          },
          "metadata": {
            "tags": []
          },
          "execution_count": 23
        }
      ]
    },
    {
      "cell_type": "markdown",
      "metadata": {
        "id": "TiD5fFLEVcto"
      },
      "source": [
        "### 1.1.4 RobustScaler"
      ]
    },
    {
      "cell_type": "markdown",
      "metadata": {
        "id": "0ocfuYeVjTWr"
      },
      "source": [
        "$$\\frac{x_i - Q_i(x)}{Q_3(x) - Q_1(x)}$$"
      ]
    },
    {
      "cell_type": "code",
      "metadata": {
        "id": "fwG16BLJUSn0",
        "outputId": "3b855c7d-8aa0-4713-ddcb-2e735c8aa039",
        "colab": {
          "base_uri": "https://localhost:8080/"
        }
      },
      "source": [
        "X_scaled = preprocessing.RobustScaler().fit_transform(X_train)\n",
        "\n",
        "X_scaled "
      ],
      "execution_count": 24,
      "outputs": [
        {
          "output_type": "execute_result",
          "data": {
            "text/plain": [
              "array([[ 0.        , -1.        ,  1.33333333],\n",
              "       [ 1.        ,  0.        ,  0.        ],\n",
              "       [-1.        ,  1.        , -0.66666667]])"
            ]
          },
          "metadata": {
            "tags": []
          },
          "execution_count": 24
        }
      ]
    },
    {
      "cell_type": "markdown",
      "metadata": {
        "id": "LRe1I4fdwkVF"
      },
      "source": [
        "## 1.2 Normalização"
      ]
    },
    {
      "cell_type": "code",
      "metadata": {
        "id": "Eqx7ZVXCwoIq",
        "outputId": "a3699f8f-b660-47ca-88cc-a8edd85910ec",
        "colab": {
          "base_uri": "https://localhost:8080/"
        }
      },
      "source": [
        "X_normalized = preprocessing.Normalizer().fit_transform(X_train)\n",
        "\n",
        "X_normalized"
      ],
      "execution_count": 25,
      "outputs": [
        {
          "output_type": "execute_result",
          "data": {
            "text/plain": [
              "array([[ 0.40824829, -0.40824829,  0.81649658],\n",
              "       [ 1.        ,  0.        ,  0.        ],\n",
              "       [ 0.        ,  0.70710678, -0.70710678]])"
            ]
          },
          "metadata": {
            "tags": []
          },
          "execution_count": 25
        }
      ]
    },
    {
      "cell_type": "markdown",
      "metadata": {
        "id": "_Lvp_xiZxvIg"
      },
      "source": [
        "##1.3 Codificando atributos categóricos"
      ]
    },
    {
      "cell_type": "markdown",
      "metadata": {
        "id": "FXdZ4IFHyXzd"
      },
      "source": [
        "### 1.3.1 Ordinal Encoder"
      ]
    },
    {
      "cell_type": "code",
      "metadata": {
        "id": "pD9XJ5qV5O3e",
        "outputId": "0cebcddd-8ff5-44fa-88f2-ecb4899e80b2",
        "colab": {
          "base_uri": "https://localhost:8080/"
        }
      },
      "source": [
        "X = [['male', 'from US', 'uses Safari'], ['female', 'from Europe', 'uses Firefox'], ['male', 'from Europe', 'uses Safari']]\n",
        "enc = preprocessing.OrdinalEncoder().fit_transform(X)\n",
        "enc"
      ],
      "execution_count": 35,
      "outputs": [
        {
          "output_type": "execute_result",
          "data": {
            "text/plain": [
              "array([[1., 1., 1.],\n",
              "       [0., 0., 0.],\n",
              "       [1., 0., 1.]])"
            ]
          },
          "metadata": {
            "tags": []
          },
          "execution_count": 35
        }
      ]
    },
    {
      "cell_type": "markdown",
      "metadata": {
        "id": "V9iBRLu8yXxa"
      },
      "source": [
        "### 1.3.2 OneHotEncoder"
      ]
    },
    {
      "cell_type": "code",
      "metadata": {
        "id": "sMXm4A377UGE",
        "outputId": "0ef46f65-a912-4d25-ea65-8a921e7c0a79",
        "colab": {
          "base_uri": "https://localhost:8080/"
        }
      },
      "source": [
        "X = [['male', 'from US', 'uses Safari'], ['female', 'from Europe', 'uses Firefox'], ['male', 'from Europe', 'uses Safari']]\n",
        "enc = preprocessing.OneHotEncoder().fit_transform(X).toarray()\n",
        "enc"
      ],
      "execution_count": 40,
      "outputs": [
        {
          "output_type": "execute_result",
          "data": {
            "text/plain": [
              "array([[0., 1., 0., 1., 0., 1.],\n",
              "       [1., 0., 1., 0., 1., 0.],\n",
              "       [0., 1., 1., 0., 0., 1.]])"
            ]
          },
          "metadata": {
            "tags": []
          },
          "execution_count": 40
        }
      ]
    }
  ]
}
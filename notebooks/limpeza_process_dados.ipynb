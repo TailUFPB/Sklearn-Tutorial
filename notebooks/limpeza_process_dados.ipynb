{
  "nbformat": 4,
  "nbformat_minor": 0,
  "metadata": {
    "colab": {
      "name": "Preprocessamento_dados.ipynb",
      "provenance": [],
      "collapsed_sections": [
        "_pNTVvT1VgN2",
        "G8eMdM4rwLas",
        "mc0cjUBH2FFo",
        "XoTDWqjQrU1d",
        "3ectC7IUrcTe"
      ],
      "include_colab_link": true
    },
    "kernelspec": {
      "name": "python3",
      "display_name": "Python 3"
    }
  },
  "cells": [
    {
      "cell_type": "markdown",
      "metadata": {
        "id": "view-in-github",
        "colab_type": "text"
      },
      "source": [
        "<a href=\"https://colab.research.google.com/github/TailUFPB/Tutorials/blob/main/notebooks/limpeza_process_dados.ipynb\" target=\"_parent\"><img src=\"https://colab.research.google.com/assets/colab-badge.svg\" alt=\"Open In Colab\"/></a>"
      ]
    },
    {
      "cell_type": "markdown",
      "metadata": {
        "id": "JaoAzkefk91H"
      },
      "source": [
        "# **Preparação de dados para Aprendizagem de Máquina**\n",
        "---\n",
        "\n",
        "Neste notebook aprensentaremos algumas técnicas utilizadas em conjuntos de dados estruturados a fim de prepará-los para o desenvolvimento de um modelo de aprendizagem de máquina. Com o problema definido, algumas tarefas comuns são:\n",
        "\n",
        "\\\n",
        "\n",
        "1. Limpeza de dados\n",
        "2. Transformação de dados\n",
        "\n",
        "\\\n",
        "\n",
        "---\n",
        "## Objetivo\n",
        "\n",
        "Treinamento de um modelo de regressão para calcular preço de aluguel.\n",
        "\n",
        "\\\n",
        "Dados: https://www.kaggle.com/maverickjpa/brazilian-real-estate-to-rent"
      ]
    },
    {
      "cell_type": "markdown",
      "metadata": {
        "id": "yVxdkxrhMNjy"
      },
      "source": [
        "---\n",
        "\n",
        "## 0. Preparação do ambiente"
      ]
    },
    {
      "cell_type": "code",
      "metadata": {
        "id": "kug3OpdVgG2A",
        "outputId": "d3e60823-883e-4871-a9d4-784f14d9896b",
        "colab": {
          "base_uri": "https://localhost:8080/"
        }
      },
      "source": [
        "import pandas as pd\n",
        "import numpy as np\n",
        "import seaborn as sns\n",
        "\n",
        "df = pd.read_csv(\"https://raw.githubusercontent.com/TailUFPB/DataScience/main/datasets/br_real_state_rent/br_real_state_rent.csv\", sep = \";\")"
      ],
      "execution_count": null,
      "outputs": [
        {
          "output_type": "stream",
          "text": [
            "/usr/local/lib/python3.6/dist-packages/IPython/core/interactiveshell.py:2718: DtypeWarning: Columns (22,75) have mixed types.Specify dtype option on import or set low_memory=False.\n",
            "  interactivity=interactivity, compiler=compiler, result=result)\n"
          ],
          "name": "stderr"
        }
      ]
    },
    {
      "cell_type": "markdown",
      "metadata": {
        "id": "Ug7tLikpR_2O"
      },
      "source": [
        "Esses são os dados brutos:"
      ]
    },
    {
      "cell_type": "code",
      "metadata": {
        "id": "XrWTX3hFgOXy",
        "outputId": "19c67472-25b6-4cb4-b362-b7f21e3a05cb",
        "colab": {
          "base_uri": "https://localhost:8080/",
          "height": 517
        }
      },
      "source": [
        "df.head()"
      ],
      "execution_count": null,
      "outputs": [
        {
          "output_type": "execute_result",
          "data": {
            "text/html": [
              "<div>\n",
              "<style scoped>\n",
              "    .dataframe tbody tr th:only-of-type {\n",
              "        vertical-align: middle;\n",
              "    }\n",
              "\n",
              "    .dataframe tbody tr th {\n",
              "        vertical-align: top;\n",
              "    }\n",
              "\n",
              "    .dataframe thead th {\n",
              "        text-align: right;\n",
              "    }\n",
              "</style>\n",
              "<table border=\"1\" class=\"dataframe\">\n",
              "  <thead>\n",
              "    <tr style=\"text-align: right;\">\n",
              "      <th></th>\n",
              "      <th>account.licenseNumber</th>\n",
              "      <th>account.name</th>\n",
              "      <th>imvl_type</th>\n",
              "      <th>listing.acceptExchange</th>\n",
              "      <th>listing.address.city</th>\n",
              "      <th>listing.address.confidence</th>\n",
              "      <th>listing.address.country</th>\n",
              "      <th>listing.address.level</th>\n",
              "      <th>listing.address.neighborhood</th>\n",
              "      <th>listing.address.point.lat</th>\n",
              "      <th>listing.address.point.lon</th>\n",
              "      <th>listing.address.point.source</th>\n",
              "      <th>listing.address.precision</th>\n",
              "      <th>listing.address.state</th>\n",
              "      <th>listing.address.street</th>\n",
              "      <th>listing.address.streetNumber</th>\n",
              "      <th>listing.address.zipCode</th>\n",
              "      <th>listing.address.zone</th>\n",
              "      <th>listing.advertiserId</th>\n",
              "      <th>listing.amenities</th>\n",
              "      <th>listing.backyard</th>\n",
              "      <th>listing.barbgrill</th>\n",
              "      <th>listing.bathrooms</th>\n",
              "      <th>listing.bathtub</th>\n",
              "      <th>listing.bedrooms</th>\n",
              "      <th>listing.businessTypeContext</th>\n",
              "      <th>listing.createdAt</th>\n",
              "      <th>listing.description</th>\n",
              "      <th>listing.displayAddressType</th>\n",
              "      <th>listing.externalId</th>\n",
              "      <th>listing.fireplace</th>\n",
              "      <th>listing.floors</th>\n",
              "      <th>listing.furnished</th>\n",
              "      <th>listing.garden</th>\n",
              "      <th>listing.guestpark</th>\n",
              "      <th>listing.gym</th>\n",
              "      <th>listing.hottub</th>\n",
              "      <th>listing.id</th>\n",
              "      <th>listing.isInactive</th>\n",
              "      <th>listing.legacyId</th>\n",
              "      <th>listing.link</th>\n",
              "      <th>listing.listingType</th>\n",
              "      <th>listing.mountainview</th>\n",
              "      <th>listing.parkingSpaces</th>\n",
              "      <th>listing.partyhall</th>\n",
              "      <th>listing.playground</th>\n",
              "      <th>listing.pool</th>\n",
              "      <th>listing.portal</th>\n",
              "      <th>listing.preview</th>\n",
              "      <th>listing.pricingInfo.businessLabel</th>\n",
              "      <th>listing.pricingInfo.businessType</th>\n",
              "      <th>listing.pricingInfo.isRent</th>\n",
              "      <th>listing.pricingInfo.isSale</th>\n",
              "      <th>listing.pricingInfo.monthlyCondoFee</th>\n",
              "      <th>listing.pricingInfo.period</th>\n",
              "      <th>listing.pricingInfo.price</th>\n",
              "      <th>listing.pricingInfo.rentalPrice</th>\n",
              "      <th>listing.pricingInfo.rentalTotalPrice</th>\n",
              "      <th>listing.pricingInfo.salePrice</th>\n",
              "      <th>listing.pricingInfo.yearlyIptu</th>\n",
              "      <th>listing.propertyType</th>\n",
              "      <th>listing.publicationType</th>\n",
              "      <th>listing.sauna</th>\n",
              "      <th>listing.soundproofing</th>\n",
              "      <th>listing.sportcourt</th>\n",
              "      <th>listing.subtitle</th>\n",
              "      <th>listing.suites</th>\n",
              "      <th>listing.tenniscourt</th>\n",
              "      <th>listing.title</th>\n",
              "      <th>listing.totalAreas</th>\n",
              "      <th>listing.unitFloor</th>\n",
              "      <th>listing.unitSubTypes</th>\n",
              "      <th>listing.unitTypes</th>\n",
              "      <th>listing.unitsOnTheFloor</th>\n",
              "      <th>listing.updatedAt</th>\n",
              "      <th>listing.usableAreas</th>\n",
              "      <th>listing.usageTypes</th>\n",
              "      <th>type</th>\n",
              "    </tr>\n",
              "  </thead>\n",
              "  <tbody>\n",
              "    <tr>\n",
              "      <th>0</th>\n",
              "      <td>04268-J-SP</td>\n",
              "      <td>ADI Assessoria e Imóveis Ltda</td>\n",
              "      <td>apartamentos</td>\n",
              "      <td>False</td>\n",
              "      <td>São Paulo</td>\n",
              "      <td>VALID_STREET</td>\n",
              "      <td>BR</td>\n",
              "      <td>STREET</td>\n",
              "      <td>Parada Inglesa</td>\n",
              "      <td>-23.493796</td>\n",
              "      <td>-46.605705</td>\n",
              "      <td>GOOGLE</td>\n",
              "      <td>GEOMETRIC_CENTER</td>\n",
              "      <td>São Paulo</td>\n",
              "      <td>Rua Manajeru</td>\n",
              "      <td>normal</td>\n",
              "      <td>normal</td>\n",
              "      <td>Zona Norte</td>\n",
              "      <td>7bf57a4f-0a40-781d-c7b0-5af8f92bd22d</td>\n",
              "      <td>normal</td>\n",
              "      <td>False</td>\n",
              "      <td>False</td>\n",
              "      <td>1</td>\n",
              "      <td>False</td>\n",
              "      <td>2</td>\n",
              "      <td>RENTAL</td>\n",
              "      <td>2020-06-17T10:12:05.109Z</td>\n",
              "      <td>LINDO APARTAMENTO PARADA INGLESA&lt;br&gt;&lt;br&gt;2 DORM...</td>\n",
              "      <td>ALL</td>\n",
              "      <td>2481</td>\n",
              "      <td>False</td>\n",
              "      <td>normal</td>\n",
              "      <td>False</td>\n",
              "      <td>False</td>\n",
              "      <td>False</td>\n",
              "      <td>False</td>\n",
              "      <td>False</td>\n",
              "      <td>2486576702</td>\n",
              "      <td>False</td>\n",
              "      <td>normal</td>\n",
              "      <td>/imovel/aluguel-apartamento-2-quartos-parada-i...</td>\n",
              "      <td>USED</td>\n",
              "      <td>False</td>\n",
              "      <td>normal</td>\n",
              "      <td>False</td>\n",
              "      <td>False</td>\n",
              "      <td>False</td>\n",
              "      <td>ZAP</td>\n",
              "      <td>False</td>\n",
              "      <td>Alugar</td>\n",
              "      <td>RENTAL</td>\n",
              "      <td>True</td>\n",
              "      <td>False</td>\n",
              "      <td>50</td>\n",
              "      <td>mês</td>\n",
              "      <td>1.3</td>\n",
              "      <td>1.3</td>\n",
              "      <td>1.350</td>\n",
              "      <td>normal</td>\n",
              "      <td>50</td>\n",
              "      <td>UNIT</td>\n",
              "      <td>SUPER_PREMIUM</td>\n",
              "      <td>False</td>\n",
              "      <td>False</td>\n",
              "      <td>False</td>\n",
              "      <td>Apartamento para alugar em</td>\n",
              "      <td>normal</td>\n",
              "      <td>False</td>\n",
              "      <td>SãO PAULO - Apartamento Padrão - Parada Inglesa</td>\n",
              "      <td>45</td>\n",
              "      <td>0</td>\n",
              "      <td>normal</td>\n",
              "      <td>APARTMENT</td>\n",
              "      <td>0</td>\n",
              "      <td>2020-07-24T05:06:08.843Z</td>\n",
              "      <td>45</td>\n",
              "      <td>RESIDENTIAL</td>\n",
              "      <td>superPremium</td>\n",
              "    </tr>\n",
              "    <tr>\n",
              "      <th>1</th>\n",
              "      <td>00254-J-SC</td>\n",
              "      <td>San Remos Imóveis</td>\n",
              "      <td>apartamentos</td>\n",
              "      <td>False</td>\n",
              "      <td>Florianópolis</td>\n",
              "      <td>VALID_STREET</td>\n",
              "      <td>BR</td>\n",
              "      <td>STREET</td>\n",
              "      <td>Agronômica</td>\n",
              "      <td>-27.576887</td>\n",
              "      <td>-48.54293</td>\n",
              "      <td>GOOGLE</td>\n",
              "      <td>ROOFTOP</td>\n",
              "      <td>Santa Catarina</td>\n",
              "      <td>Avenida Governador Irineu Bornhausen</td>\n",
              "      <td>3440</td>\n",
              "      <td>88025201</td>\n",
              "      <td>Bairros</td>\n",
              "      <td>4facce12-e20d-00a9-e96c-f0fec9d61fb8</td>\n",
              "      <td>KITCHEN_CABINETS|BUILTIN_WARDROBE|BALCONY|SERV...</td>\n",
              "      <td>False</td>\n",
              "      <td>False</td>\n",
              "      <td>3</td>\n",
              "      <td>False</td>\n",
              "      <td>3</td>\n",
              "      <td>RENTAL</td>\n",
              "      <td>2020-07-10T23:40:26.142Z</td>\n",
              "      <td>EXCELENTE LOCALIZAÇÃO - TRANQUILIDADE E COMODI...</td>\n",
              "      <td>ALL</td>\n",
              "      <td>2060</td>\n",
              "      <td>False</td>\n",
              "      <td>normal</td>\n",
              "      <td>False</td>\n",
              "      <td>False</td>\n",
              "      <td>False</td>\n",
              "      <td>False</td>\n",
              "      <td>False</td>\n",
              "      <td>2489060354</td>\n",
              "      <td>False</td>\n",
              "      <td>normal</td>\n",
              "      <td>/imovel/aluguel-apartamento-3-quartos-com-arma...</td>\n",
              "      <td>USED</td>\n",
              "      <td>False</td>\n",
              "      <td>1</td>\n",
              "      <td>False</td>\n",
              "      <td>False</td>\n",
              "      <td>False</td>\n",
              "      <td>ZAP</td>\n",
              "      <td>False</td>\n",
              "      <td>Alugar</td>\n",
              "      <td>RENTAL</td>\n",
              "      <td>True</td>\n",
              "      <td>False</td>\n",
              "      <td>1.961</td>\n",
              "      <td>mês</td>\n",
              "      <td>3.6</td>\n",
              "      <td>3.6</td>\n",
              "      <td>5.561</td>\n",
              "      <td>normal</td>\n",
              "      <td>370</td>\n",
              "      <td>UNIT</td>\n",
              "      <td>SUPER_PREMIUM</td>\n",
              "      <td>False</td>\n",
              "      <td>False</td>\n",
              "      <td>False</td>\n",
              "      <td>Apartamento para alugar em</td>\n",
              "      <td>1</td>\n",
              "      <td>False</td>\n",
              "      <td>Florianópolis - Apartamento Padrão - Agronômica</td>\n",
              "      <td>140</td>\n",
              "      <td>0</td>\n",
              "      <td>normal</td>\n",
              "      <td>APARTMENT</td>\n",
              "      <td>0</td>\n",
              "      <td>2020-07-12T11:43:29.976Z</td>\n",
              "      <td>140</td>\n",
              "      <td>RESIDENTIAL</td>\n",
              "      <td>superPremium</td>\n",
              "    </tr>\n",
              "    <tr>\n",
              "      <th>2</th>\n",
              "      <td>48861-F-RJ</td>\n",
              "      <td>Família Bacellar Imobiliária</td>\n",
              "      <td>apartamentos</td>\n",
              "      <td>False</td>\n",
              "      <td>Rio de Janeiro</td>\n",
              "      <td>VALID_STREET</td>\n",
              "      <td>BR</td>\n",
              "      <td>STREET</td>\n",
              "      <td>Recreio Dos Bandeirantes</td>\n",
              "      <td>-23.018798</td>\n",
              "      <td>-43.462056</td>\n",
              "      <td>GOOGLE</td>\n",
              "      <td>GEOMETRIC_CENTER</td>\n",
              "      <td>Rio de Janeiro</td>\n",
              "      <td>Rua Mário Faustino</td>\n",
              "      <td>normal</td>\n",
              "      <td>22795225</td>\n",
              "      <td>Zona Oeste</td>\n",
              "      <td>99a49079-2e53-2611-c44f-d06c291e8276</td>\n",
              "      <td>ELEVATOR|INTERCOM|KITCHEN_CABINETS|BUILTIN_WAR...</td>\n",
              "      <td>False</td>\n",
              "      <td>False</td>\n",
              "      <td>3</td>\n",
              "      <td>False</td>\n",
              "      <td>3</td>\n",
              "      <td>RENTAL</td>\n",
              "      <td>2020-07-23T21:43:24.010Z</td>\n",
              "      <td>Cód: TIAP32493. Para quem quer morar próximo d...</td>\n",
              "      <td>STREET</td>\n",
              "      <td>TIAP32493</td>\n",
              "      <td>False</td>\n",
              "      <td>normal</td>\n",
              "      <td>False</td>\n",
              "      <td>False</td>\n",
              "      <td>False</td>\n",
              "      <td>False</td>\n",
              "      <td>False</td>\n",
              "      <td>2490399573</td>\n",
              "      <td>False</td>\n",
              "      <td>normal</td>\n",
              "      <td>/imovel/aluguel-apartamento-3-quartos-com-elev...</td>\n",
              "      <td>USED</td>\n",
              "      <td>False</td>\n",
              "      <td>2</td>\n",
              "      <td>False</td>\n",
              "      <td>False</td>\n",
              "      <td>False</td>\n",
              "      <td>ZAP</td>\n",
              "      <td>False</td>\n",
              "      <td>Alugar</td>\n",
              "      <td>RENTAL</td>\n",
              "      <td>True</td>\n",
              "      <td>False</td>\n",
              "      <td>835</td>\n",
              "      <td>mês</td>\n",
              "      <td>2.1</td>\n",
              "      <td>2.1</td>\n",
              "      <td>2.935</td>\n",
              "      <td>normal</td>\n",
              "      <td>244</td>\n",
              "      <td>UNIT</td>\n",
              "      <td>SUPER_PREMIUM</td>\n",
              "      <td>False</td>\n",
              "      <td>False</td>\n",
              "      <td>False</td>\n",
              "      <td>Apartamento para alugar em</td>\n",
              "      <td>1</td>\n",
              "      <td>False</td>\n",
              "      <td>Rio de Janeiro - Apartamento Padrão - Recreio ...</td>\n",
              "      <td>100</td>\n",
              "      <td>0</td>\n",
              "      <td>normal</td>\n",
              "      <td>APARTMENT</td>\n",
              "      <td>0</td>\n",
              "      <td>2020-07-30T03:11:32.521Z</td>\n",
              "      <td>100</td>\n",
              "      <td>RESIDENTIAL</td>\n",
              "      <td>superPremium</td>\n",
              "    </tr>\n",
              "    <tr>\n",
              "      <th>3</th>\n",
              "      <td>17452-J-SP</td>\n",
              "      <td>Next Soluções Imobiliárias</td>\n",
              "      <td>apartamentos</td>\n",
              "      <td>False</td>\n",
              "      <td>Campinas</td>\n",
              "      <td>VALID_STREET</td>\n",
              "      <td>BR</td>\n",
              "      <td>STREET</td>\n",
              "      <td>Cambuí</td>\n",
              "      <td>-22.899193</td>\n",
              "      <td>-47.053086</td>\n",
              "      <td>GOOGLE</td>\n",
              "      <td>ROOFTOP</td>\n",
              "      <td>São Paulo</td>\n",
              "      <td>Rua Barreto Leme</td>\n",
              "      <td>1920</td>\n",
              "      <td>13025085</td>\n",
              "      <td>Bairros</td>\n",
              "      <td>eaa31cc0-db78-0b60-6ecf-a917d42f9eee</td>\n",
              "      <td>POOL|SAUNA</td>\n",
              "      <td>False</td>\n",
              "      <td>False</td>\n",
              "      <td>2</td>\n",
              "      <td>False</td>\n",
              "      <td>1</td>\n",
              "      <td>RENTAL</td>\n",
              "      <td>2016-12-12T04:15:29.087Z</td>\n",
              "      <td>Apartamento mobiliado para alugar no Cambuí.&lt;b...</td>\n",
              "      <td>ALL</td>\n",
              "      <td>AP025700</td>\n",
              "      <td>False</td>\n",
              "      <td>normal</td>\n",
              "      <td>False</td>\n",
              "      <td>False</td>\n",
              "      <td>False</td>\n",
              "      <td>False</td>\n",
              "      <td>False</td>\n",
              "      <td>2464055602</td>\n",
              "      <td>False</td>\n",
              "      <td>normal</td>\n",
              "      <td>/imovel/aluguel-apartamento-1-quarto-com-pisci...</td>\n",
              "      <td>USED</td>\n",
              "      <td>False</td>\n",
              "      <td>1</td>\n",
              "      <td>False</td>\n",
              "      <td>False</td>\n",
              "      <td>True</td>\n",
              "      <td>ZAP</td>\n",
              "      <td>False</td>\n",
              "      <td>Alugar</td>\n",
              "      <td>RENTAL</td>\n",
              "      <td>True</td>\n",
              "      <td>False</td>\n",
              "      <td>134.437</td>\n",
              "      <td>mês</td>\n",
              "      <td>3.0</td>\n",
              "      <td>3.0</td>\n",
              "      <td>137.437</td>\n",
              "      <td>normal</td>\n",
              "      <td>90</td>\n",
              "      <td>UNIT</td>\n",
              "      <td>PREMIUM</td>\n",
              "      <td>True</td>\n",
              "      <td>False</td>\n",
              "      <td>False</td>\n",
              "      <td>Apartamento para alugar em</td>\n",
              "      <td>0</td>\n",
              "      <td>False</td>\n",
              "      <td>Campinas - Apartamento Padrão - Cambuí</td>\n",
              "      <td>80</td>\n",
              "      <td>0</td>\n",
              "      <td>normal</td>\n",
              "      <td>APARTMENT</td>\n",
              "      <td>0</td>\n",
              "      <td>2020-07-16T17:15:06.708Z</td>\n",
              "      <td>80</td>\n",
              "      <td>RESIDENTIAL</td>\n",
              "      <td>premium</td>\n",
              "    </tr>\n",
              "    <tr>\n",
              "      <th>4</th>\n",
              "      <td>24344-J-SP</td>\n",
              "      <td>QUINTO ANDAR SERVICOS IMOBILIARIOS LTDA</td>\n",
              "      <td>apartamentos</td>\n",
              "      <td>False</td>\n",
              "      <td>São Paulo</td>\n",
              "      <td>VALID_STREET</td>\n",
              "      <td>BR</td>\n",
              "      <td>STREET</td>\n",
              "      <td>Ipiranga</td>\n",
              "      <td>-23.598672</td>\n",
              "      <td>-46.604629</td>\n",
              "      <td>GOOGLE</td>\n",
              "      <td>ROOFTOP</td>\n",
              "      <td>São Paulo</td>\n",
              "      <td>Rua Clemente Pereira</td>\n",
              "      <td>64</td>\n",
              "      <td>04216060</td>\n",
              "      <td>Zona Sul</td>\n",
              "      <td>a8c36aa5-da1c-0c25-7d28-b5e62fed6a80</td>\n",
              "      <td>BARBECUE_GRILL|POOL|ELEVATOR|PLAYGROUND|SPORTS...</td>\n",
              "      <td>False</td>\n",
              "      <td>True</td>\n",
              "      <td>3</td>\n",
              "      <td>False</td>\n",
              "      <td>2</td>\n",
              "      <td>RENTAL</td>\n",
              "      <td>2020-07-28T22:32:55.573Z</td>\n",
              "      <td>Alugue rápido, sem fiador e com segurança! Age...</td>\n",
              "      <td>ALL</td>\n",
              "      <td>893111543</td>\n",
              "      <td>False</td>\n",
              "      <td>normal</td>\n",
              "      <td>False</td>\n",
              "      <td>False</td>\n",
              "      <td>False</td>\n",
              "      <td>False</td>\n",
              "      <td>False</td>\n",
              "      <td>2490870778</td>\n",
              "      <td>False</td>\n",
              "      <td>normal</td>\n",
              "      <td>/imovel/aluguel-apartamento-2-quartos-com-pisc...</td>\n",
              "      <td>USED</td>\n",
              "      <td>False</td>\n",
              "      <td>2</td>\n",
              "      <td>True</td>\n",
              "      <td>True</td>\n",
              "      <td>True</td>\n",
              "      <td>ZAP</td>\n",
              "      <td>False</td>\n",
              "      <td>Alugar</td>\n",
              "      <td>RENTAL</td>\n",
              "      <td>True</td>\n",
              "      <td>False</td>\n",
              "      <td>536</td>\n",
              "      <td>mês</td>\n",
              "      <td>2.6</td>\n",
              "      <td>2.6</td>\n",
              "      <td>3.136</td>\n",
              "      <td>normal</td>\n",
              "      <td>17</td>\n",
              "      <td>UNIT</td>\n",
              "      <td>PREMIUM</td>\n",
              "      <td>True</td>\n",
              "      <td>False</td>\n",
              "      <td>True</td>\n",
              "      <td>Apartamento para alugar em</td>\n",
              "      <td>2</td>\n",
              "      <td>False</td>\n",
              "      <td>São Paulo - Apartamento Padrão - Ipiranga</td>\n",
              "      <td>69</td>\n",
              "      <td>0</td>\n",
              "      <td>normal</td>\n",
              "      <td>APARTMENT</td>\n",
              "      <td>0</td>\n",
              "      <td>2020-07-29T04:32:26.854Z</td>\n",
              "      <td>69</td>\n",
              "      <td>RESIDENTIAL</td>\n",
              "      <td>premium</td>\n",
              "    </tr>\n",
              "  </tbody>\n",
              "</table>\n",
              "</div>"
            ],
            "text/plain": [
              "  account.licenseNumber  ...          type\n",
              "0            04268-J-SP  ...  superPremium\n",
              "1            00254-J-SC  ...  superPremium\n",
              "2            48861-F-RJ  ...  superPremium\n",
              "3            17452-J-SP  ...       premium\n",
              "4            24344-J-SP  ...       premium\n",
              "\n",
              "[5 rows x 78 columns]"
            ]
          },
          "metadata": {
            "tags": []
          },
          "execution_count": 150
        }
      ]
    },
    {
      "cell_type": "code",
      "metadata": {
        "id": "zwFy0GYha_SK"
      },
      "source": [
        ""
      ],
      "execution_count": null,
      "outputs": []
    },
    {
      "cell_type": "markdown",
      "metadata": {
        "id": "ajF_to0eUTGA"
      },
      "source": [
        "Essa função vai servir para verficar as dimensões dos dados ao longo do pré-processamento, cada linha equivale a um objeto e cada coluna a um atributo:"
      ]
    },
    {
      "cell_type": "code",
      "metadata": {
        "id": "WIsHRmKBUP-q"
      },
      "source": [
        "def tamanho(df):\n",
        "    linhas, colunas = df.shape\n",
        "    print(\"Objetos:\", linhas)\n",
        "    print(\"Atributos:\", colunas)"
      ],
      "execution_count": null,
      "outputs": []
    },
    {
      "cell_type": "code",
      "metadata": {
        "id": "Sh9B581EVSkt",
        "outputId": "2d25b9f9-86e4-483e-91cc-c66f1c4e8038",
        "colab": {
          "base_uri": "https://localhost:8080/"
        }
      },
      "source": [
        "tamanho(df)"
      ],
      "execution_count": null,
      "outputs": [
        {
          "output_type": "stream",
          "text": [
            "Objetos: 35772\n",
            "Atributos: 78\n"
          ],
          "name": "stdout"
        }
      ]
    },
    {
      "cell_type": "markdown",
      "metadata": {
        "id": "xHkQloPxoAxU"
      },
      "source": [
        "---\n",
        "\n",
        "## 1. Limpeza de dados (Pandas)"
      ]
    },
    {
      "cell_type": "markdown",
      "metadata": {
        "id": "dMgZqWz0SdqZ"
      },
      "source": [
        "Renomeando as colunas para nomes mais simples e indicativos:"
      ]
    },
    {
      "cell_type": "code",
      "metadata": {
        "id": "cAIfSy2fyVlE"
      },
      "source": [
        "names = [\"licenca\", \"empresa\", \"tipo\", \"troca\", \"cidade\",\t\"enderecoConfidencial\",\t\"pais\",\t\"tipoRegiao\",\t\"bairro\",\t\"latitude\",\t\n",
        "         \"longitude\", \"busca\", \"precisaoEndereco\", \"estado\", \"rua\",\t\"numeroEndereco\",\t\"cep\", \"zona\", \"advertiserId\", \n",
        "         \"comodidades\",\t\"quintal\", \"churrasqueira\", \"banheiros\", \"banheira\", \"quartos\", \"aluguelVenda\", \"cadastro\", \n",
        "         \"descricao\",\t\"exibicaoEndereco\", \"idExterno\", \"lareira\", \"andares\", \"mobilhado\", \"jardim\",\t\"estacionamento\",\t\n",
        "         \"academia\", \"jacuzzi\",\t\"id\",\t\"inativo\", \"legacyId\", \"link\", \"listingType\", \"vistaMontanhas\", \"vagasGaragem\",\t\n",
        "         \"salaoFestas\",\t\"parquinho\", \"piscina\",\t\"portal\",\t\"preview\", \"categoria\", \"categoriaIngles\", \"alugado\",\t\"vendido\", \n",
        "         \"taxaCondominio\", \"periodo\", \"preco\",\t\"precoAluguel\",\t\"precoTotal\",\t\"precoVenda\",\t\"iptuAnual\", \"propertyType\", \n",
        "         \"tipoPublicacaoIngles\", \"sauna\",\t\"isolamentoAcustico\",\t\"quadra\",\t\"legenda\", \"suites\", \"quadraTenis\", \"titulo\", \n",
        "         \"area\", \"andar\", \"subtipo\", \"tipoIngles\", \"unidadesNoAndar\",\t\"atualizacao\", \"areaUtilizada\", \"tipoUso\", \"tipoPublicacao\"]\n",
        "\n",
        "df.columns = names"
      ],
      "execution_count": null,
      "outputs": []
    },
    {
      "cell_type": "markdown",
      "metadata": {
        "id": "TCDztE2nYoYV"
      },
      "source": [
        "### 1.1 Tratamento de valores únicos\n",
        "\n",
        "Valores únicos são os valores que um atributo apresenta, aqueles que só possuem um não ajudam a diferenciar os dados.\n",
        "\\\n",
        "Por exemplo: Em \"pais\" só existe um valor único (\"BR\"), não seria útil manter esse atributo.\n",
        "\\\n",
        "Observamos que o dataset possui 5 atributos com um único valor único.\n"
      ]
    },
    {
      "cell_type": "code",
      "metadata": {
        "id": "EGq2J56CkTrB",
        "outputId": "0f50e908-b0d5-45bf-d589-db49df30ac82",
        "colab": {
          "base_uri": "https://localhost:8080/"
        }
      },
      "source": [
        "for item in df:\n",
        "  print(f\"{item}: {df[item].nunique()}\")"
      ],
      "execution_count": null,
      "outputs": [
        {
          "output_type": "stream",
          "text": [
            "licenca: 3407\n",
            "empresa: 4216\n",
            "tipo: 8\n",
            "troca: 2\n",
            "cidade: 331\n",
            "enderecoConfidencial: 2\n",
            "pais: 1\n",
            "tipoRegiao: 5\n",
            "bairro: 3570\n",
            "latitude: 14935\n",
            "longitude: 14927\n",
            "busca: 5\n",
            "precisaoEndereco: 5\n",
            "estado: 25\n",
            "rua: 8206\n",
            "numeroEndereco: 2057\n",
            "cep: 11258\n",
            "zona: 10\n",
            "advertiserId: 4244\n",
            "comodidades: 10037\n",
            "quintal: 2\n",
            "churrasqueira: 2\n",
            "banheiros: 29\n",
            "banheira: 2\n",
            "quartos: 12\n",
            "aluguelVenda: 2\n",
            "cadastro: 25205\n",
            "descricao: 23128\n",
            "exibicaoEndereco: 3\n",
            "idExterno: 21494\n",
            "lareira: 2\n",
            "andares: 36\n",
            "mobilhado: 2\n",
            "jardim: 2\n",
            "estacionamento: 2\n",
            "academia: 2\n",
            "jacuzzi: 2\n",
            "id: 25354\n",
            "inativo: 2\n",
            "legacyId: 2744\n",
            "link: 25354\n",
            "listingType: 1\n",
            "vistaMontanhas: 2\n",
            "vagasGaragem: 23\n",
            "salaoFestas: 2\n",
            "parquinho: 2\n",
            "piscina: 2\n",
            "portal: 2\n",
            "preview: 1\n",
            "categoria: 3\n",
            "categoriaIngles: 3\n",
            "alugado: 1\n",
            "vendido: 2\n",
            "taxaCondominio: 2105\n",
            "periodo: 4\n",
            "preco: 1778\n",
            "precoAluguel: 1778\n",
            "precoTotal: 4998\n",
            "precoVenda: 854\n",
            "iptuAnual: 1826\n",
            "propertyType: 1\n",
            "tipoPublicacaoIngles: 4\n",
            "sauna: 2\n",
            "isolamentoAcustico: 2\n",
            "quadra: 2\n",
            "legenda: 41\n",
            "suites: 13\n",
            "quadraTenis: 2\n",
            "titulo: 13834\n",
            "area: 1063\n",
            "andar: 27\n",
            "subtipo: 16\n",
            "tipoIngles: 7\n",
            "unidadesNoAndar: 38\n",
            "atualizacao: 21412\n",
            "areaUtilizada: 1193\n",
            "tipoUso: 2\n",
            "tipoPublicacao: 3\n"
          ],
          "name": "stdout"
        }
      ]
    },
    {
      "cell_type": "markdown",
      "metadata": {
        "id": "PFZB5CvwTIfI"
      },
      "source": [
        "Caso existissem colunas com valores únicos poderiamos dropar com a função abaixo:"
      ]
    },
    {
      "cell_type": "code",
      "metadata": {
        "id": "Xr3YmlM8S-mc"
      },
      "source": [
        "for column in df:\n",
        "    if df[column].nunique() == 1:\n",
        "        df.drop(columns=column, inplace=True)"
      ],
      "execution_count": null,
      "outputs": []
    },
    {
      "cell_type": "markdown",
      "metadata": {
        "id": "govA1pbCYwGd"
      },
      "source": [
        "Verificando as dimensões dos dados:"
      ]
    },
    {
      "cell_type": "code",
      "metadata": {
        "id": "p1BKNt9CYx1u",
        "outputId": "5064ba28-62b0-4877-816e-a2d77a60bdbc",
        "colab": {
          "base_uri": "https://localhost:8080/"
        }
      },
      "source": [
        "tamanho(df)"
      ],
      "execution_count": null,
      "outputs": [
        {
          "output_type": "stream",
          "text": [
            "Objetos: 35772\n",
            "Atributos: 73\n"
          ],
          "name": "stdout"
        }
      ]
    },
    {
      "cell_type": "markdown",
      "metadata": {
        "id": "wakDaJfndIR_"
      },
      "source": [
        "### 1.2 Dropar atributos irrelevantes\n",
        "\n",
        "Atributos que talvez não sejam de grande valia para geração do modelo de ML.\n",
        "Esse passo foi feito meramente de forma empírica e experimental. Não seguimos nenhum método formal de seleção de atributos (Estudaremos em breve)."
      ]
    },
    {
      "cell_type": "code",
      "metadata": {
        "id": "VAc5Jp5QaFKI",
        "outputId": "36e7d2c6-8e04-403c-e523-b0543902dabb",
        "colab": {
          "base_uri": "https://localhost:8080/"
        }
      },
      "source": [
        "# Checar novamente os novos atributos depois do passo anterior\n",
        "\n",
        "for item in df:\n",
        "  print(item)"
      ],
      "execution_count": null,
      "outputs": [
        {
          "output_type": "stream",
          "text": [
            "licenca\n",
            "empresa\n",
            "tipo\n",
            "troca\n",
            "cidade\n",
            "enderecoConfidencial\n",
            "tipoRegiao\n",
            "bairro\n",
            "latitude\n",
            "longitude\n",
            "busca\n",
            "precisaoEndereco\n",
            "estado\n",
            "rua\n",
            "numeroEndereco\n",
            "cep\n",
            "zona\n",
            "advertiserId\n",
            "comodidades\n",
            "quintal\n",
            "churrasqueira\n",
            "banheiros\n",
            "banheira\n",
            "quartos\n",
            "aluguelVenda\n",
            "cadastro\n",
            "descricao\n",
            "exibicaoEndereco\n",
            "idExterno\n",
            "lareira\n",
            "andares\n",
            "mobilhado\n",
            "jardim\n",
            "estacionamento\n",
            "academia\n",
            "jacuzzi\n",
            "id\n",
            "inativo\n",
            "legacyId\n",
            "link\n",
            "vistaMontanhas\n",
            "vagasGaragem\n",
            "salaoFestas\n",
            "parquinho\n",
            "piscina\n",
            "portal\n",
            "categoria\n",
            "categoriaIngles\n",
            "vendido\n",
            "taxaCondominio\n",
            "periodo\n",
            "preco\n",
            "precoAluguel\n",
            "precoTotal\n",
            "precoVenda\n",
            "iptuAnual\n",
            "tipoPublicacaoIngles\n",
            "sauna\n",
            "isolamentoAcustico\n",
            "quadra\n",
            "legenda\n",
            "suites\n",
            "quadraTenis\n",
            "titulo\n",
            "area\n",
            "andar\n",
            "subtipo\n",
            "tipoIngles\n",
            "unidadesNoAndar\n",
            "atualizacao\n",
            "areaUtilizada\n",
            "tipoUso\n",
            "tipoPublicacao\n"
          ],
          "name": "stdout"
        }
      ]
    },
    {
      "cell_type": "code",
      "metadata": {
        "id": "EEA4jhWHdNoL"
      },
      "source": [
        "irrelevantes = [\"licenca\", \"empresa\", \"tipo\", \"troca\", \"enderecoConfidencial\", \"tipoRegiao\", \"bairro\", \"latitude\",\t\n",
        "                \"longitude\", \"busca\", \"precisaoEndereco\", \"rua\", \"numeroEndereco\", \"cep\",\t\"zona\", \"advertiserId\", \n",
        "                \"comodidades\",\"aluguelVenda\", \"cadastro\", \"descricao\", \"exibicaoEndereco\", \"idExterno\", \"id\",\t\"inativo\", \n",
        "                \"legacyId\", \"link\", \"portal\", \"categoria\", \"categoriaIngles\", \"vendido\", \"taxaCondominio\", \"periodo\", \n",
        "                \"preco\",\t\"precoAluguel\", \"precoVenda\", \"iptuAnual\", \"tipoPublicacaoIngles\", \"legenda\", \"titulo\", \n",
        "                \"subtipo\", \"tipoIngles\", \"unidadesNoAndar\", \"atualizacao\", \"tipoUso\", \"tipoPublicacao\"]\n",
        "\n",
        "df.drop(columns=irrelevantes, inplace=True)"
      ],
      "execution_count": null,
      "outputs": []
    },
    {
      "cell_type": "code",
      "metadata": {
        "id": "RM167XS0h-Xy",
        "outputId": "c16d6fbe-f457-4870-b308-693ad9e12407",
        "colab": {
          "base_uri": "https://localhost:8080/",
          "height": 309
        }
      },
      "source": [
        "df.head()"
      ],
      "execution_count": null,
      "outputs": [
        {
          "output_type": "execute_result",
          "data": {
            "text/html": [
              "<div>\n",
              "<style scoped>\n",
              "    .dataframe tbody tr th:only-of-type {\n",
              "        vertical-align: middle;\n",
              "    }\n",
              "\n",
              "    .dataframe tbody tr th {\n",
              "        vertical-align: top;\n",
              "    }\n",
              "\n",
              "    .dataframe thead th {\n",
              "        text-align: right;\n",
              "    }\n",
              "</style>\n",
              "<table border=\"1\" class=\"dataframe\">\n",
              "  <thead>\n",
              "    <tr style=\"text-align: right;\">\n",
              "      <th></th>\n",
              "      <th>cidade</th>\n",
              "      <th>estado</th>\n",
              "      <th>quintal</th>\n",
              "      <th>churrasqueira</th>\n",
              "      <th>banheiros</th>\n",
              "      <th>banheira</th>\n",
              "      <th>quartos</th>\n",
              "      <th>lareira</th>\n",
              "      <th>andares</th>\n",
              "      <th>mobilhado</th>\n",
              "      <th>jardim</th>\n",
              "      <th>estacionamento</th>\n",
              "      <th>academia</th>\n",
              "      <th>jacuzzi</th>\n",
              "      <th>vistaMontanhas</th>\n",
              "      <th>vagasGaragem</th>\n",
              "      <th>salaoFestas</th>\n",
              "      <th>parquinho</th>\n",
              "      <th>piscina</th>\n",
              "      <th>precoTotal</th>\n",
              "      <th>sauna</th>\n",
              "      <th>isolamentoAcustico</th>\n",
              "      <th>quadra</th>\n",
              "      <th>suites</th>\n",
              "      <th>quadraTenis</th>\n",
              "      <th>area</th>\n",
              "      <th>andar</th>\n",
              "      <th>areaUtilizada</th>\n",
              "    </tr>\n",
              "  </thead>\n",
              "  <tbody>\n",
              "    <tr>\n",
              "      <th>0</th>\n",
              "      <td>São Paulo</td>\n",
              "      <td>São Paulo</td>\n",
              "      <td>False</td>\n",
              "      <td>False</td>\n",
              "      <td>1</td>\n",
              "      <td>False</td>\n",
              "      <td>2</td>\n",
              "      <td>False</td>\n",
              "      <td>normal</td>\n",
              "      <td>False</td>\n",
              "      <td>False</td>\n",
              "      <td>False</td>\n",
              "      <td>False</td>\n",
              "      <td>False</td>\n",
              "      <td>False</td>\n",
              "      <td>normal</td>\n",
              "      <td>False</td>\n",
              "      <td>False</td>\n",
              "      <td>False</td>\n",
              "      <td>1.350</td>\n",
              "      <td>False</td>\n",
              "      <td>False</td>\n",
              "      <td>False</td>\n",
              "      <td>normal</td>\n",
              "      <td>False</td>\n",
              "      <td>45</td>\n",
              "      <td>0</td>\n",
              "      <td>45</td>\n",
              "    </tr>\n",
              "    <tr>\n",
              "      <th>1</th>\n",
              "      <td>Florianópolis</td>\n",
              "      <td>Santa Catarina</td>\n",
              "      <td>False</td>\n",
              "      <td>False</td>\n",
              "      <td>3</td>\n",
              "      <td>False</td>\n",
              "      <td>3</td>\n",
              "      <td>False</td>\n",
              "      <td>normal</td>\n",
              "      <td>False</td>\n",
              "      <td>False</td>\n",
              "      <td>False</td>\n",
              "      <td>False</td>\n",
              "      <td>False</td>\n",
              "      <td>False</td>\n",
              "      <td>1</td>\n",
              "      <td>False</td>\n",
              "      <td>False</td>\n",
              "      <td>False</td>\n",
              "      <td>5.561</td>\n",
              "      <td>False</td>\n",
              "      <td>False</td>\n",
              "      <td>False</td>\n",
              "      <td>1</td>\n",
              "      <td>False</td>\n",
              "      <td>140</td>\n",
              "      <td>0</td>\n",
              "      <td>140</td>\n",
              "    </tr>\n",
              "    <tr>\n",
              "      <th>2</th>\n",
              "      <td>Rio de Janeiro</td>\n",
              "      <td>Rio de Janeiro</td>\n",
              "      <td>False</td>\n",
              "      <td>False</td>\n",
              "      <td>3</td>\n",
              "      <td>False</td>\n",
              "      <td>3</td>\n",
              "      <td>False</td>\n",
              "      <td>normal</td>\n",
              "      <td>False</td>\n",
              "      <td>False</td>\n",
              "      <td>False</td>\n",
              "      <td>False</td>\n",
              "      <td>False</td>\n",
              "      <td>False</td>\n",
              "      <td>2</td>\n",
              "      <td>False</td>\n",
              "      <td>False</td>\n",
              "      <td>False</td>\n",
              "      <td>2.935</td>\n",
              "      <td>False</td>\n",
              "      <td>False</td>\n",
              "      <td>False</td>\n",
              "      <td>1</td>\n",
              "      <td>False</td>\n",
              "      <td>100</td>\n",
              "      <td>0</td>\n",
              "      <td>100</td>\n",
              "    </tr>\n",
              "    <tr>\n",
              "      <th>3</th>\n",
              "      <td>Campinas</td>\n",
              "      <td>São Paulo</td>\n",
              "      <td>False</td>\n",
              "      <td>False</td>\n",
              "      <td>2</td>\n",
              "      <td>False</td>\n",
              "      <td>1</td>\n",
              "      <td>False</td>\n",
              "      <td>normal</td>\n",
              "      <td>False</td>\n",
              "      <td>False</td>\n",
              "      <td>False</td>\n",
              "      <td>False</td>\n",
              "      <td>False</td>\n",
              "      <td>False</td>\n",
              "      <td>1</td>\n",
              "      <td>False</td>\n",
              "      <td>False</td>\n",
              "      <td>True</td>\n",
              "      <td>137.437</td>\n",
              "      <td>True</td>\n",
              "      <td>False</td>\n",
              "      <td>False</td>\n",
              "      <td>0</td>\n",
              "      <td>False</td>\n",
              "      <td>80</td>\n",
              "      <td>0</td>\n",
              "      <td>80</td>\n",
              "    </tr>\n",
              "    <tr>\n",
              "      <th>4</th>\n",
              "      <td>São Paulo</td>\n",
              "      <td>São Paulo</td>\n",
              "      <td>False</td>\n",
              "      <td>True</td>\n",
              "      <td>3</td>\n",
              "      <td>False</td>\n",
              "      <td>2</td>\n",
              "      <td>False</td>\n",
              "      <td>normal</td>\n",
              "      <td>False</td>\n",
              "      <td>False</td>\n",
              "      <td>False</td>\n",
              "      <td>False</td>\n",
              "      <td>False</td>\n",
              "      <td>False</td>\n",
              "      <td>2</td>\n",
              "      <td>True</td>\n",
              "      <td>True</td>\n",
              "      <td>True</td>\n",
              "      <td>3.136</td>\n",
              "      <td>True</td>\n",
              "      <td>False</td>\n",
              "      <td>True</td>\n",
              "      <td>2</td>\n",
              "      <td>False</td>\n",
              "      <td>69</td>\n",
              "      <td>0</td>\n",
              "      <td>69</td>\n",
              "    </tr>\n",
              "  </tbody>\n",
              "</table>\n",
              "</div>"
            ],
            "text/plain": [
              "           cidade          estado  quintal  ...  area andar  areaUtilizada\n",
              "0       São Paulo       São Paulo    False  ...    45     0             45\n",
              "1   Florianópolis  Santa Catarina    False  ...   140     0            140\n",
              "2  Rio de Janeiro  Rio de Janeiro    False  ...   100     0            100\n",
              "3        Campinas       São Paulo    False  ...    80     0             80\n",
              "4       São Paulo       São Paulo    False  ...    69     0             69\n",
              "\n",
              "[5 rows x 28 columns]"
            ]
          },
          "metadata": {
            "tags": []
          },
          "execution_count": 159
        }
      ]
    },
    {
      "cell_type": "markdown",
      "metadata": {
        "id": "Pk6jH2v_VqRW"
      },
      "source": [
        "Verificando as dimensões dos dados:"
      ]
    },
    {
      "cell_type": "code",
      "metadata": {
        "id": "kVkmDFwKVqRy",
        "outputId": "8cf6a1f9-7f02-4d40-cb46-f036eaa60f2b",
        "colab": {
          "base_uri": "https://localhost:8080/"
        }
      },
      "source": [
        "tamanho(df)"
      ],
      "execution_count": null,
      "outputs": [
        {
          "output_type": "stream",
          "text": [
            "Objetos: 35772\n",
            "Atributos: 28\n"
          ],
          "name": "stdout"
        }
      ]
    },
    {
      "cell_type": "markdown",
      "metadata": {
        "id": "_pNTVvT1VgN2"
      },
      "source": [
        "### 1.3 Tratamento valores duplicados\n",
        "\n",
        "Vamos verificar a occorrência de objetos duplicados."
      ]
    },
    {
      "cell_type": "code",
      "metadata": {
        "id": "bc6VFKnzVv2o",
        "outputId": "870f9fe5-3777-46a7-85bd-abb434e1bc2f",
        "colab": {
          "base_uri": "https://localhost:8080/"
        }
      },
      "source": [
        "print(\"Objetos duplicados: %d\" % df.duplicated().sum())"
      ],
      "execution_count": null,
      "outputs": [
        {
          "output_type": "stream",
          "text": [
            "Objetos duplicados: 10608\n"
          ],
          "name": "stdout"
        }
      ]
    },
    {
      "cell_type": "markdown",
      "metadata": {
        "id": "1YRrQujvV5ap"
      },
      "source": [
        "Com essa função vamos apagar os objetos duplicados e manter somente a primeira ocorrência, depois vamos reindexar."
      ]
    },
    {
      "cell_type": "code",
      "metadata": {
        "id": "53-zGMgO6KOh"
      },
      "source": [
        "df.drop_duplicates(keep='first', inplace=True)\n",
        "df.reset_index(drop=True, inplace=True)"
      ],
      "execution_count": null,
      "outputs": []
    },
    {
      "cell_type": "markdown",
      "metadata": {
        "id": "K6wnV2P4WfT5"
      },
      "source": [
        "Verificando as dimensões dos dados:"
      ]
    },
    {
      "cell_type": "code",
      "metadata": {
        "id": "AmGnLLnMWb9O",
        "outputId": "33811f19-277c-4cff-8bc6-c494d1ef3840",
        "colab": {
          "base_uri": "https://localhost:8080/"
        }
      },
      "source": [
        "tamanho(df)"
      ],
      "execution_count": null,
      "outputs": [
        {
          "output_type": "stream",
          "text": [
            "Objetos: 25164\n",
            "Atributos: 28\n"
          ],
          "name": "stdout"
        }
      ]
    },
    {
      "cell_type": "markdown",
      "metadata": {
        "id": "G8eMdM4rwLas"
      },
      "source": [
        "### 1.4 Tratamento de dados faltantes / nulos\n",
        "\n",
        "Percebemos a ocorrência de valores descritos como `normal`.\n",
        "\\\n",
        "Analisando, percebemos que indicam dados faltantes, vamos corrigir e colocar como sendo valor `NaN`."
      ]
    },
    {
      "cell_type": "code",
      "metadata": {
        "id": "XJt85NSQWbKF"
      },
      "source": [
        "df.replace(\"normal\", np.nan, inplace=True)"
      ],
      "execution_count": null,
      "outputs": []
    },
    {
      "cell_type": "code",
      "metadata": {
        "id": "biVFCKeTL-FY"
      },
      "source": [
        "# Transformar dados vazios para NaN\n",
        "# Não existem valores vazios, mas fica de exemplo\n",
        "\n",
        "nan_value = float(\"NaN\")\n",
        "df.replace(\"\", nan_value, inplace=True)"
      ],
      "execution_count": null,
      "outputs": []
    },
    {
      "cell_type": "code",
      "metadata": {
        "id": "pwrpJoT9gqB6",
        "outputId": "f7ab0eb2-770b-4955-d791-b987705ac1b7",
        "colab": {
          "base_uri": "https://localhost:8080/"
        }
      },
      "source": [
        "df.isnull().sum()"
      ],
      "execution_count": null,
      "outputs": [
        {
          "output_type": "execute_result",
          "data": {
            "text/plain": [
              "cidade                    0\n",
              "estado                    0\n",
              "quintal                   0\n",
              "churrasqueira             0\n",
              "banheiros                 3\n",
              "banheira                  0\n",
              "quartos                   0\n",
              "lareira                   0\n",
              "andares               23048\n",
              "mobilhado                 0\n",
              "jardim                    0\n",
              "estacionamento            0\n",
              "academia                  0\n",
              "jacuzzi                   0\n",
              "vistaMontanhas            0\n",
              "vagasGaragem           1638\n",
              "salaoFestas               0\n",
              "parquinho                 0\n",
              "piscina                   0\n",
              "precoTotal             6801\n",
              "sauna                     0\n",
              "isolamentoAcustico        0\n",
              "quadra                    0\n",
              "suites                 4997\n",
              "quadraTenis               0\n",
              "area                   1309\n",
              "andar                     0\n",
              "areaUtilizada             1\n",
              "dtype: int64"
            ]
          },
          "metadata": {
            "tags": []
          },
          "execution_count": 166
        }
      ]
    },
    {
      "cell_type": "markdown",
      "metadata": {
        "id": "53HzjWa0oWVJ"
      },
      "source": [
        "#### Existem algumas maneiras de lidar com dados faltantes\n",
        "\n",
        "1. Deletar as colunas com dados faltantes:\n",
        "\n",
        "  `df.dropna(axis=1, inplace=True)`\n",
        "\n",
        "2. Deletar os exemplos com dados faltantes:\n",
        "\n",
        "  `df.dropna(axis=0, inplace=True)`\n",
        "\n",
        "3. Preencher os dados faltantes com a média dos valores do atributo:\n",
        "\n",
        "  ```\n",
        "  from sklearn.preprocessing import Imputer\n",
        "\n",
        "  imputer = Imputer(missing_values = np.nan, strategy = ‘mean’, axis = 0)\n",
        "\n",
        "  imputer = imputer.fit(X)\n",
        "\n",
        "  ```\n",
        "\n",
        "4. Preencher os dados faltantes com valores quaisquer:\n",
        "\n",
        "  Preencher com zero \n",
        "  \n",
        "  ```\n",
        "  df.fillna(0)\n",
        "  ```\n",
        "  Preenccher com valor escolhido\n",
        "  ```\n",
        "  values = {'coluna_x': valor, 'coluna_y': valor}\n",
        "  df.fillna(value=values)\n",
        "  ```"
      ]
    },
    {
      "cell_type": "code",
      "metadata": {
        "id": "xYVO1IKgMSNL"
      },
      "source": [
        "# Substituímos por 1 a título de exemplo\n",
        "\n",
        "df.fillna(value=1, inplace=True)"
      ],
      "execution_count": null,
      "outputs": []
    },
    {
      "cell_type": "markdown",
      "metadata": {
        "id": "L4G_H2aQ1G51"
      },
      "source": [
        "### 1.5 Tratamento de valores Inválidos, Inconsistentes e Outliers\n",
        "\n",
        "Observar se existem valores numéricos estranhos.\n",
        "\\\n",
        "Como por exemplo:\n",
        "\\\n",
        "1 - Número de quartos negativos.\n",
        "\\\n",
        "2 - Número muito grande de suítes em área pequena.\n",
        "\\\n",
        "3 - Número muito grande de vagas de garagem.\n",
        "\n",
        "Esse passo deve ser feito com exploração e atenção máxima."
      ]
    },
    {
      "cell_type": "markdown",
      "metadata": {
        "id": "_-ZX0ikKcZkg"
      },
      "source": [
        "#### 1.5.1 - Correção de Formato: Um pequeno exemplo\n",
        "\n",
        "Observamos que temos alguns atributos em forma de `object` e `bool`.\n",
        "Convém transformá-los para `int64` ou `float`.\n",
        "\n",
        "\\\n",
        "\n",
        "Essa parte do processamento pode estar mais relacionada com transformação de dados, porém, a título de exemplo iremos mostrar uma mudança do tipo de dado para podermos realizar análise exploratória de valores inválidos/outliers."
      ]
    },
    {
      "cell_type": "code",
      "metadata": {
        "id": "yvUu2Q4hcla_",
        "outputId": "080e8941-d86b-45d4-8383-d6a8128e01c3",
        "colab": {
          "base_uri": "https://localhost:8080/"
        }
      },
      "source": [
        "# Observamos os tipos dos dados\n",
        "\n",
        "df.info()"
      ],
      "execution_count": null,
      "outputs": [
        {
          "output_type": "stream",
          "text": [
            "<class 'pandas.core.frame.DataFrame'>\n",
            "RangeIndex: 25164 entries, 0 to 25163\n",
            "Data columns (total 28 columns):\n",
            " #   Column              Non-Null Count  Dtype \n",
            "---  ------              --------------  ----- \n",
            " 0   cidade              25164 non-null  object\n",
            " 1   estado              25164 non-null  object\n",
            " 2   quintal             25164 non-null  bool  \n",
            " 3   churrasqueira       25164 non-null  bool  \n",
            " 4   banheiros           25164 non-null  object\n",
            " 5   banheira            25164 non-null  bool  \n",
            " 6   quartos             25164 non-null  int64 \n",
            " 7   lareira             25164 non-null  bool  \n",
            " 8   andares             25164 non-null  object\n",
            " 9   mobilhado           25164 non-null  bool  \n",
            " 10  jardim              25164 non-null  bool  \n",
            " 11  estacionamento      25164 non-null  bool  \n",
            " 12  academia            25164 non-null  bool  \n",
            " 13  jacuzzi             25164 non-null  bool  \n",
            " 14  vistaMontanhas      25164 non-null  bool  \n",
            " 15  vagasGaragem        25164 non-null  object\n",
            " 16  salaoFestas         25164 non-null  bool  \n",
            " 17  parquinho           25164 non-null  bool  \n",
            " 18  piscina             25164 non-null  bool  \n",
            " 19  precoTotal          25164 non-null  object\n",
            " 20  sauna               25164 non-null  bool  \n",
            " 21  isolamentoAcustico  25164 non-null  bool  \n",
            " 22  quadra              25164 non-null  bool  \n",
            " 23  suites              25164 non-null  object\n",
            " 24  quadraTenis         25164 non-null  bool  \n",
            " 25  area                25164 non-null  object\n",
            " 26  andar               25164 non-null  int64 \n",
            " 27  areaUtilizada       25164 non-null  object\n",
            "dtypes: bool(17), int64(2), object(9)\n",
            "memory usage: 2.5+ MB\n"
          ],
          "name": "stdout"
        }
      ]
    },
    {
      "cell_type": "code",
      "metadata": {
        "id": "XxTYyVzxdez2",
        "outputId": "bec1bc2e-7ce5-495d-8f3e-09d7597b0b60",
        "colab": {
          "base_uri": "https://localhost:8080/"
        }
      },
      "source": [
        "# Checando valores que aparecem no atributo suite\n",
        "# Percebemos que existe um tipo 'normal'\n",
        "\n",
        "df['suites'].unique()"
      ],
      "execution_count": null,
      "outputs": [
        {
          "output_type": "execute_result",
          "data": {
            "text/plain": [
              "array([1, '1', '0', '2', '3', '4', '5', '6', '46', '7', '8', '10', '14'],\n",
              "      dtype=object)"
            ]
          },
          "metadata": {
            "tags": []
          },
          "execution_count": 169
        }
      ]
    },
    {
      "cell_type": "code",
      "metadata": {
        "id": "hAiZ3lvpdUas"
      },
      "source": [
        "# Mudar suite para númerico\n",
        "\n",
        "df['suites'] = df['suites'].astype(int)"
      ],
      "execution_count": null,
      "outputs": []
    },
    {
      "cell_type": "code",
      "metadata": {
        "id": "fP3KAo7OYuA3",
        "outputId": "e82e4c2a-5ac8-45aa-b725-bf5a34413c60",
        "colab": {
          "base_uri": "https://localhost:8080/"
        }
      },
      "source": [
        "# verificar a distribuição dos valores\n",
        "\n",
        "df['suites'].describe()"
      ],
      "execution_count": null,
      "outputs": [
        {
          "output_type": "execute_result",
          "data": {
            "text/plain": [
              "count    25164.000000\n",
              "mean         1.369735\n",
              "std          1.292374\n",
              "min          0.000000\n",
              "25%          1.000000\n",
              "50%          1.000000\n",
              "75%          2.000000\n",
              "max         46.000000\n",
              "Name: suites, dtype: float64"
            ]
          },
          "metadata": {
            "tags": []
          },
          "execution_count": 171
        }
      ]
    },
    {
      "cell_type": "code",
      "metadata": {
        "id": "NxXSBk-kpBHx",
        "outputId": "2b66aac1-e770-493d-dac0-79d1565fa132",
        "colab": {
          "base_uri": "https://localhost:8080/",
          "height": 282
        }
      },
      "source": [
        "# Plotar alguns gráficos de atributos \"duvidosos\"\n",
        "\n",
        "df['suites'].hist(bins=100)"
      ],
      "execution_count": null,
      "outputs": [
        {
          "output_type": "execute_result",
          "data": {
            "text/plain": [
              "<matplotlib.axes._subplots.AxesSubplot at 0x7fb5a4760390>"
            ]
          },
          "metadata": {
            "tags": []
          },
          "execution_count": 172
        },
        {
          "output_type": "display_data",
          "data": {
            "image/png": "[encoded data removed]",
            "text/plain": [
              "<Figure size 432x288 with 1 Axes>"
            ]
          },
          "metadata": {
            "tags": [],
            "needs_background": "light"
          }
        }
      ]
    },
    {
      "cell_type": "code",
      "metadata": {
        "id": "TlB69ZzWyssu",
        "outputId": "b5a70ebc-8d0e-40d8-aaad-5bfe2d88bd44",
        "colab": {
          "base_uri": "https://localhost:8080/",
          "height": 386
        }
      },
      "source": [
        "sns.displot(df['suites'], binwidth=0.5)"
      ],
      "execution_count": null,
      "outputs": [
        {
          "output_type": "execute_result",
          "data": {
            "text/plain": [
              "<seaborn.axisgrid.FacetGrid at 0x7fb5a4513fd0>"
            ]
          },
          "metadata": {
            "tags": []
          },
          "execution_count": 173
        },
        {
          "output_type": "display_data",
          "data": {
            "image/png": "[encoded data removed]",
            "text/plain": [
              "<Figure size 360x360 with 1 Axes>"
            ]
          },
          "metadata": {
            "tags": [],
            "needs_background": "light"
          }
        }
      ]
    },
    {
      "cell_type": "code",
      "metadata": {
        "id": "LjNha0mQs8_l",
        "outputId": "09350813-e0e5-46b5-a2ff-1ece3e16bbdf",
        "colab": {
          "base_uri": "https://localhost:8080/",
          "height": 282
        }
      },
      "source": [
        "# Boxplot ajuda na identificação de outliers\n",
        "\n",
        "df.boxplot(column=['suites'])"
      ],
      "execution_count": null,
      "outputs": [
        {
          "output_type": "execute_result",
          "data": {
            "text/plain": [
              "<matplotlib.axes._subplots.AxesSubplot at 0x7fb5a44f1470>"
            ]
          },
          "metadata": {
            "tags": []
          },
          "execution_count": 174
        },
        {
          "output_type": "display_data",
          "data": {
            "image/png": "[encoded data removed]",
            "text/plain": [
              "<Figure size 432x288 with 1 Axes>"
            ]
          },
          "metadata": {
            "tags": [],
            "needs_background": "light"
          }
        }
      ]
    },
    {
      "cell_type": "code",
      "metadata": {
        "id": "GyDkoGxfzXlB",
        "outputId": "6fe0372d-381f-4d1c-f1cc-df385c76fd0d",
        "colab": {
          "base_uri": "https://localhost:8080/",
          "height": 282
        }
      },
      "source": [
        "sns.boxplot(data=df['suites'], orient=\"h\")"
      ],
      "execution_count": null,
      "outputs": [
        {
          "output_type": "execute_result",
          "data": {
            "text/plain": [
              "<matplotlib.axes._subplots.AxesSubplot at 0x7fb5a439ebe0>"
            ]
          },
          "metadata": {
            "tags": []
          },
          "execution_count": 175
        },
        {
          "output_type": "display_data",
          "data": {
            "image/png": "[encoded data removed]",
            "text/plain": [
              "<Figure size 432x288 with 1 Axes>"
            ]
          },
          "metadata": {
            "tags": [],
            "needs_background": "light"
          }
        }
      ]
    },
    {
      "cell_type": "code",
      "metadata": {
        "id": "ljdumbyCp3Ox",
        "outputId": "156e8147-84aa-41c7-b0e7-46164d8016a1",
        "colab": {
          "base_uri": "https://localhost:8080/"
        }
      },
      "source": [
        "# Percebemos um outlier acima do número 40\n",
        "# Checar valores únicos de algum atributo\n",
        "\n",
        "df['suites'].unique()"
      ],
      "execution_count": null,
      "outputs": [
        {
          "output_type": "execute_result",
          "data": {
            "text/plain": [
              "array([ 1,  0,  2,  3,  4,  5,  6, 46,  7,  8, 10, 14])"
            ]
          },
          "metadata": {
            "tags": []
          },
          "execution_count": 176
        }
      ]
    },
    {
      "cell_type": "code",
      "metadata": {
        "id": "ECUVwNJLqcIW",
        "outputId": "4ae2e14f-4c2d-41e5-fc4a-57805921d015",
        "colab": {
          "base_uri": "https://localhost:8080/",
          "height": 117
        }
      },
      "source": [
        "# Checar linha específica de um atributo onde certa condição se satisfaz\n",
        "# Analisamos que o número 46 de suítes é um outlier\n",
        "# Existem apenas 4 quartos no imóvel\n",
        "\n",
        "df.loc[df['suites'] == 46]"
      ],
      "execution_count": null,
      "outputs": [
        {
          "output_type": "execute_result",
          "data": {
            "text/html": [
              "<div>\n",
              "<style scoped>\n",
              "    .dataframe tbody tr th:only-of-type {\n",
              "        vertical-align: middle;\n",
              "    }\n",
              "\n",
              "    .dataframe tbody tr th {\n",
              "        vertical-align: top;\n",
              "    }\n",
              "\n",
              "    .dataframe thead th {\n",
              "        text-align: right;\n",
              "    }\n",
              "</style>\n",
              "<table border=\"1\" class=\"dataframe\">\n",
              "  <thead>\n",
              "    <tr style=\"text-align: right;\">\n",
              "      <th></th>\n",
              "      <th>cidade</th>\n",
              "      <th>estado</th>\n",
              "      <th>quintal</th>\n",
              "      <th>churrasqueira</th>\n",
              "      <th>banheiros</th>\n",
              "      <th>banheira</th>\n",
              "      <th>quartos</th>\n",
              "      <th>lareira</th>\n",
              "      <th>andares</th>\n",
              "      <th>mobilhado</th>\n",
              "      <th>jardim</th>\n",
              "      <th>estacionamento</th>\n",
              "      <th>academia</th>\n",
              "      <th>jacuzzi</th>\n",
              "      <th>vistaMontanhas</th>\n",
              "      <th>vagasGaragem</th>\n",
              "      <th>salaoFestas</th>\n",
              "      <th>parquinho</th>\n",
              "      <th>piscina</th>\n",
              "      <th>precoTotal</th>\n",
              "      <th>sauna</th>\n",
              "      <th>isolamentoAcustico</th>\n",
              "      <th>quadra</th>\n",
              "      <th>suites</th>\n",
              "      <th>quadraTenis</th>\n",
              "      <th>area</th>\n",
              "      <th>andar</th>\n",
              "      <th>areaUtilizada</th>\n",
              "    </tr>\n",
              "  </thead>\n",
              "  <tbody>\n",
              "    <tr>\n",
              "      <th>5219</th>\n",
              "      <td>Rio de Janeiro</td>\n",
              "      <td>Rio de Janeiro</td>\n",
              "      <td>False</td>\n",
              "      <td>False</td>\n",
              "      <td>6</td>\n",
              "      <td>False</td>\n",
              "      <td>4</td>\n",
              "      <td>False</td>\n",
              "      <td>1</td>\n",
              "      <td>False</td>\n",
              "      <td>False</td>\n",
              "      <td>False</td>\n",
              "      <td>False</td>\n",
              "      <td>False</td>\n",
              "      <td>False</td>\n",
              "      <td>2</td>\n",
              "      <td>False</td>\n",
              "      <td>False</td>\n",
              "      <td>False</td>\n",
              "      <td>6.350</td>\n",
              "      <td>False</td>\n",
              "      <td>False</td>\n",
              "      <td>False</td>\n",
              "      <td>46</td>\n",
              "      <td>False</td>\n",
              "      <td>280</td>\n",
              "      <td>0</td>\n",
              "      <td>280</td>\n",
              "    </tr>\n",
              "  </tbody>\n",
              "</table>\n",
              "</div>"
            ],
            "text/plain": [
              "              cidade          estado  quintal  ...  area andar  areaUtilizada\n",
              "5219  Rio de Janeiro  Rio de Janeiro    False  ...   280     0            280\n",
              "\n",
              "[1 rows x 28 columns]"
            ]
          },
          "metadata": {
            "tags": []
          },
          "execution_count": 177
        }
      ]
    },
    {
      "cell_type": "markdown",
      "metadata": {
        "id": "k1zy6IlHghQ7"
      },
      "source": [
        "Exemplo de como Dropar uma linha onde certa condição se satisfaz\n",
        "\n",
        "```python\n",
        "indexNames = df[df['suites'] == 46].index\n",
        "df.drop(indexNames , inplace=True)\n",
        "```\n",
        "\n",
        "Exemplo de como Trocar um valor por outro\n",
        "```python\n",
        "df[\"suites\"].replace({46: 4}, inplace=True)\n",
        "```"
      ]
    },
    {
      "cell_type": "code",
      "metadata": {
        "id": "CIyOovkdw-Go"
      },
      "source": [
        "# Trocando o valor\n",
        "\n",
        "df[\"suites\"].replace({46: 4}, inplace=True)"
      ],
      "execution_count": null,
      "outputs": []
    },
    {
      "cell_type": "markdown",
      "metadata": {
        "id": "LXlTpmCc2BXv"
      },
      "source": [
        "### 1.7 Separar variável dependente\n",
        "\n",
        "A variável dependente será a variável que queremos calcular com o modelo de regressão. Retiramos ela do dataset."
      ]
    },
    {
      "cell_type": "code",
      "metadata": {
        "id": "jo1T92pC2TDl",
        "outputId": "d875c1f4-b6a2-4f62-db35-ce5892a300a6",
        "colab": {
          "base_uri": "https://localhost:8080/",
          "height": 309
        }
      },
      "source": [
        "y = pd.DataFrame(df, columns = ['precoTotal'])\n",
        "df.drop(columns='precoTotal', inplace=True)\n",
        "Y = y.iloc[:, :].values\n",
        "df.head()"
      ],
      "execution_count": null,
      "outputs": [
        {
          "output_type": "execute_result",
          "data": {
            "text/html": [
              "<div>\n",
              "<style scoped>\n",
              "    .dataframe tbody tr th:only-of-type {\n",
              "        vertical-align: middle;\n",
              "    }\n",
              "\n",
              "    .dataframe tbody tr th {\n",
              "        vertical-align: top;\n",
              "    }\n",
              "\n",
              "    .dataframe thead th {\n",
              "        text-align: right;\n",
              "    }\n",
              "</style>\n",
              "<table border=\"1\" class=\"dataframe\">\n",
              "  <thead>\n",
              "    <tr style=\"text-align: right;\">\n",
              "      <th></th>\n",
              "      <th>cidade</th>\n",
              "      <th>estado</th>\n",
              "      <th>quintal</th>\n",
              "      <th>churrasqueira</th>\n",
              "      <th>banheiros</th>\n",
              "      <th>banheira</th>\n",
              "      <th>quartos</th>\n",
              "      <th>lareira</th>\n",
              "      <th>andares</th>\n",
              "      <th>mobilhado</th>\n",
              "      <th>jardim</th>\n",
              "      <th>estacionamento</th>\n",
              "      <th>academia</th>\n",
              "      <th>jacuzzi</th>\n",
              "      <th>vistaMontanhas</th>\n",
              "      <th>vagasGaragem</th>\n",
              "      <th>salaoFestas</th>\n",
              "      <th>parquinho</th>\n",
              "      <th>piscina</th>\n",
              "      <th>sauna</th>\n",
              "      <th>isolamentoAcustico</th>\n",
              "      <th>quadra</th>\n",
              "      <th>suites</th>\n",
              "      <th>quadraTenis</th>\n",
              "      <th>area</th>\n",
              "      <th>andar</th>\n",
              "      <th>areaUtilizada</th>\n",
              "    </tr>\n",
              "  </thead>\n",
              "  <tbody>\n",
              "    <tr>\n",
              "      <th>0</th>\n",
              "      <td>São Paulo</td>\n",
              "      <td>São Paulo</td>\n",
              "      <td>False</td>\n",
              "      <td>False</td>\n",
              "      <td>1</td>\n",
              "      <td>False</td>\n",
              "      <td>2</td>\n",
              "      <td>False</td>\n",
              "      <td>1</td>\n",
              "      <td>False</td>\n",
              "      <td>False</td>\n",
              "      <td>False</td>\n",
              "      <td>False</td>\n",
              "      <td>False</td>\n",
              "      <td>False</td>\n",
              "      <td>1</td>\n",
              "      <td>False</td>\n",
              "      <td>False</td>\n",
              "      <td>False</td>\n",
              "      <td>False</td>\n",
              "      <td>False</td>\n",
              "      <td>False</td>\n",
              "      <td>1</td>\n",
              "      <td>False</td>\n",
              "      <td>45</td>\n",
              "      <td>0</td>\n",
              "      <td>45</td>\n",
              "    </tr>\n",
              "    <tr>\n",
              "      <th>1</th>\n",
              "      <td>Florianópolis</td>\n",
              "      <td>Santa Catarina</td>\n",
              "      <td>False</td>\n",
              "      <td>False</td>\n",
              "      <td>3</td>\n",
              "      <td>False</td>\n",
              "      <td>3</td>\n",
              "      <td>False</td>\n",
              "      <td>1</td>\n",
              "      <td>False</td>\n",
              "      <td>False</td>\n",
              "      <td>False</td>\n",
              "      <td>False</td>\n",
              "      <td>False</td>\n",
              "      <td>False</td>\n",
              "      <td>1</td>\n",
              "      <td>False</td>\n",
              "      <td>False</td>\n",
              "      <td>False</td>\n",
              "      <td>False</td>\n",
              "      <td>False</td>\n",
              "      <td>False</td>\n",
              "      <td>1</td>\n",
              "      <td>False</td>\n",
              "      <td>140</td>\n",
              "      <td>0</td>\n",
              "      <td>140</td>\n",
              "    </tr>\n",
              "    <tr>\n",
              "      <th>2</th>\n",
              "      <td>Rio de Janeiro</td>\n",
              "      <td>Rio de Janeiro</td>\n",
              "      <td>False</td>\n",
              "      <td>False</td>\n",
              "      <td>3</td>\n",
              "      <td>False</td>\n",
              "      <td>3</td>\n",
              "      <td>False</td>\n",
              "      <td>1</td>\n",
              "      <td>False</td>\n",
              "      <td>False</td>\n",
              "      <td>False</td>\n",
              "      <td>False</td>\n",
              "      <td>False</td>\n",
              "      <td>False</td>\n",
              "      <td>2</td>\n",
              "      <td>False</td>\n",
              "      <td>False</td>\n",
              "      <td>False</td>\n",
              "      <td>False</td>\n",
              "      <td>False</td>\n",
              "      <td>False</td>\n",
              "      <td>1</td>\n",
              "      <td>False</td>\n",
              "      <td>100</td>\n",
              "      <td>0</td>\n",
              "      <td>100</td>\n",
              "    </tr>\n",
              "    <tr>\n",
              "      <th>3</th>\n",
              "      <td>Campinas</td>\n",
              "      <td>São Paulo</td>\n",
              "      <td>False</td>\n",
              "      <td>False</td>\n",
              "      <td>2</td>\n",
              "      <td>False</td>\n",
              "      <td>1</td>\n",
              "      <td>False</td>\n",
              "      <td>1</td>\n",
              "      <td>False</td>\n",
              "      <td>False</td>\n",
              "      <td>False</td>\n",
              "      <td>False</td>\n",
              "      <td>False</td>\n",
              "      <td>False</td>\n",
              "      <td>1</td>\n",
              "      <td>False</td>\n",
              "      <td>False</td>\n",
              "      <td>True</td>\n",
              "      <td>True</td>\n",
              "      <td>False</td>\n",
              "      <td>False</td>\n",
              "      <td>0</td>\n",
              "      <td>False</td>\n",
              "      <td>80</td>\n",
              "      <td>0</td>\n",
              "      <td>80</td>\n",
              "    </tr>\n",
              "    <tr>\n",
              "      <th>4</th>\n",
              "      <td>São Paulo</td>\n",
              "      <td>São Paulo</td>\n",
              "      <td>False</td>\n",
              "      <td>True</td>\n",
              "      <td>3</td>\n",
              "      <td>False</td>\n",
              "      <td>2</td>\n",
              "      <td>False</td>\n",
              "      <td>1</td>\n",
              "      <td>False</td>\n",
              "      <td>False</td>\n",
              "      <td>False</td>\n",
              "      <td>False</td>\n",
              "      <td>False</td>\n",
              "      <td>False</td>\n",
              "      <td>2</td>\n",
              "      <td>True</td>\n",
              "      <td>True</td>\n",
              "      <td>True</td>\n",
              "      <td>True</td>\n",
              "      <td>False</td>\n",
              "      <td>True</td>\n",
              "      <td>2</td>\n",
              "      <td>False</td>\n",
              "      <td>69</td>\n",
              "      <td>0</td>\n",
              "      <td>69</td>\n",
              "    </tr>\n",
              "  </tbody>\n",
              "</table>\n",
              "</div>"
            ],
            "text/plain": [
              "           cidade          estado  quintal  ...  area andar  areaUtilizada\n",
              "0       São Paulo       São Paulo    False  ...    45     0             45\n",
              "1   Florianópolis  Santa Catarina    False  ...   140     0            140\n",
              "2  Rio de Janeiro  Rio de Janeiro    False  ...   100     0            100\n",
              "3        Campinas       São Paulo    False  ...    80     0             80\n",
              "4       São Paulo       São Paulo    False  ...    69     0             69\n",
              "\n",
              "[5 rows x 27 columns]"
            ]
          },
          "metadata": {
            "tags": []
          },
          "execution_count": 179
        }
      ]
    },
    {
      "cell_type": "markdown",
      "metadata": {
        "id": "mc0cjUBH2FFo"
      },
      "source": [
        "### 1.8 Verificação Final"
      ]
    },
    {
      "cell_type": "markdown",
      "metadata": {
        "id": "qL-xFSEUhn8o"
      },
      "source": [
        "**O que falta fazer:**\n",
        "\\\n",
        "1 - Transformar o formato dos outros dados\n",
        "\\\n",
        "2 - Encodar atributos\n",
        "\\\n",
        "3 - Normalizar\n",
        "\\\n",
        "4 - Reescalar"
      ]
    },
    {
      "cell_type": "code",
      "metadata": {
        "id": "ehJHMwEeyX_K",
        "outputId": "bdd40aec-ebe7-4e97-bc28-8d45bc30200a",
        "colab": {
          "base_uri": "https://localhost:8080/",
          "height": 309
        }
      },
      "source": [
        "df.head()"
      ],
      "execution_count": null,
      "outputs": [
        {
          "output_type": "execute_result",
          "data": {
            "text/html": [
              "<div>\n",
              "<style scoped>\n",
              "    .dataframe tbody tr th:only-of-type {\n",
              "        vertical-align: middle;\n",
              "    }\n",
              "\n",
              "    .dataframe tbody tr th {\n",
              "        vertical-align: top;\n",
              "    }\n",
              "\n",
              "    .dataframe thead th {\n",
              "        text-align: right;\n",
              "    }\n",
              "</style>\n",
              "<table border=\"1\" class=\"dataframe\">\n",
              "  <thead>\n",
              "    <tr style=\"text-align: right;\">\n",
              "      <th></th>\n",
              "      <th>cidade</th>\n",
              "      <th>estado</th>\n",
              "      <th>quintal</th>\n",
              "      <th>churrasqueira</th>\n",
              "      <th>banheiros</th>\n",
              "      <th>banheira</th>\n",
              "      <th>quartos</th>\n",
              "      <th>lareira</th>\n",
              "      <th>andares</th>\n",
              "      <th>mobilhado</th>\n",
              "      <th>jardim</th>\n",
              "      <th>estacionamento</th>\n",
              "      <th>academia</th>\n",
              "      <th>jacuzzi</th>\n",
              "      <th>vistaMontanhas</th>\n",
              "      <th>vagasGaragem</th>\n",
              "      <th>salaoFestas</th>\n",
              "      <th>parquinho</th>\n",
              "      <th>piscina</th>\n",
              "      <th>sauna</th>\n",
              "      <th>isolamentoAcustico</th>\n",
              "      <th>quadra</th>\n",
              "      <th>suites</th>\n",
              "      <th>quadraTenis</th>\n",
              "      <th>area</th>\n",
              "      <th>andar</th>\n",
              "      <th>areaUtilizada</th>\n",
              "    </tr>\n",
              "  </thead>\n",
              "  <tbody>\n",
              "    <tr>\n",
              "      <th>0</th>\n",
              "      <td>São Paulo</td>\n",
              "      <td>São Paulo</td>\n",
              "      <td>False</td>\n",
              "      <td>False</td>\n",
              "      <td>1</td>\n",
              "      <td>False</td>\n",
              "      <td>2</td>\n",
              "      <td>False</td>\n",
              "      <td>1</td>\n",
              "      <td>False</td>\n",
              "      <td>False</td>\n",
              "      <td>False</td>\n",
              "      <td>False</td>\n",
              "      <td>False</td>\n",
              "      <td>False</td>\n",
              "      <td>1</td>\n",
              "      <td>False</td>\n",
              "      <td>False</td>\n",
              "      <td>False</td>\n",
              "      <td>False</td>\n",
              "      <td>False</td>\n",
              "      <td>False</td>\n",
              "      <td>1</td>\n",
              "      <td>False</td>\n",
              "      <td>45</td>\n",
              "      <td>0</td>\n",
              "      <td>45</td>\n",
              "    </tr>\n",
              "    <tr>\n",
              "      <th>1</th>\n",
              "      <td>Florianópolis</td>\n",
              "      <td>Santa Catarina</td>\n",
              "      <td>False</td>\n",
              "      <td>False</td>\n",
              "      <td>3</td>\n",
              "      <td>False</td>\n",
              "      <td>3</td>\n",
              "      <td>False</td>\n",
              "      <td>1</td>\n",
              "      <td>False</td>\n",
              "      <td>False</td>\n",
              "      <td>False</td>\n",
              "      <td>False</td>\n",
              "      <td>False</td>\n",
              "      <td>False</td>\n",
              "      <td>1</td>\n",
              "      <td>False</td>\n",
              "      <td>False</td>\n",
              "      <td>False</td>\n",
              "      <td>False</td>\n",
              "      <td>False</td>\n",
              "      <td>False</td>\n",
              "      <td>1</td>\n",
              "      <td>False</td>\n",
              "      <td>140</td>\n",
              "      <td>0</td>\n",
              "      <td>140</td>\n",
              "    </tr>\n",
              "    <tr>\n",
              "      <th>2</th>\n",
              "      <td>Rio de Janeiro</td>\n",
              "      <td>Rio de Janeiro</td>\n",
              "      <td>False</td>\n",
              "      <td>False</td>\n",
              "      <td>3</td>\n",
              "      <td>False</td>\n",
              "      <td>3</td>\n",
              "      <td>False</td>\n",
              "      <td>1</td>\n",
              "      <td>False</td>\n",
              "      <td>False</td>\n",
              "      <td>False</td>\n",
              "      <td>False</td>\n",
              "      <td>False</td>\n",
              "      <td>False</td>\n",
              "      <td>2</td>\n",
              "      <td>False</td>\n",
              "      <td>False</td>\n",
              "      <td>False</td>\n",
              "      <td>False</td>\n",
              "      <td>False</td>\n",
              "      <td>False</td>\n",
              "      <td>1</td>\n",
              "      <td>False</td>\n",
              "      <td>100</td>\n",
              "      <td>0</td>\n",
              "      <td>100</td>\n",
              "    </tr>\n",
              "    <tr>\n",
              "      <th>3</th>\n",
              "      <td>Campinas</td>\n",
              "      <td>São Paulo</td>\n",
              "      <td>False</td>\n",
              "      <td>False</td>\n",
              "      <td>2</td>\n",
              "      <td>False</td>\n",
              "      <td>1</td>\n",
              "      <td>False</td>\n",
              "      <td>1</td>\n",
              "      <td>False</td>\n",
              "      <td>False</td>\n",
              "      <td>False</td>\n",
              "      <td>False</td>\n",
              "      <td>False</td>\n",
              "      <td>False</td>\n",
              "      <td>1</td>\n",
              "      <td>False</td>\n",
              "      <td>False</td>\n",
              "      <td>True</td>\n",
              "      <td>True</td>\n",
              "      <td>False</td>\n",
              "      <td>False</td>\n",
              "      <td>0</td>\n",
              "      <td>False</td>\n",
              "      <td>80</td>\n",
              "      <td>0</td>\n",
              "      <td>80</td>\n",
              "    </tr>\n",
              "    <tr>\n",
              "      <th>4</th>\n",
              "      <td>São Paulo</td>\n",
              "      <td>São Paulo</td>\n",
              "      <td>False</td>\n",
              "      <td>True</td>\n",
              "      <td>3</td>\n",
              "      <td>False</td>\n",
              "      <td>2</td>\n",
              "      <td>False</td>\n",
              "      <td>1</td>\n",
              "      <td>False</td>\n",
              "      <td>False</td>\n",
              "      <td>False</td>\n",
              "      <td>False</td>\n",
              "      <td>False</td>\n",
              "      <td>False</td>\n",
              "      <td>2</td>\n",
              "      <td>True</td>\n",
              "      <td>True</td>\n",
              "      <td>True</td>\n",
              "      <td>True</td>\n",
              "      <td>False</td>\n",
              "      <td>True</td>\n",
              "      <td>2</td>\n",
              "      <td>False</td>\n",
              "      <td>69</td>\n",
              "      <td>0</td>\n",
              "      <td>69</td>\n",
              "    </tr>\n",
              "  </tbody>\n",
              "</table>\n",
              "</div>"
            ],
            "text/plain": [
              "           cidade          estado  quintal  ...  area andar  areaUtilizada\n",
              "0       São Paulo       São Paulo    False  ...    45     0             45\n",
              "1   Florianópolis  Santa Catarina    False  ...   140     0            140\n",
              "2  Rio de Janeiro  Rio de Janeiro    False  ...   100     0            100\n",
              "3        Campinas       São Paulo    False  ...    80     0             80\n",
              "4       São Paulo       São Paulo    False  ...    69     0             69\n",
              "\n",
              "[5 rows x 27 columns]"
            ]
          },
          "metadata": {
            "tags": []
          },
          "execution_count": 180
        }
      ]
    },
    {
      "cell_type": "markdown",
      "metadata": {
        "id": "kS5N50dNqfpe"
      },
      "source": [
        "---\n",
        "\n",
        "## 2. Transformação de dados (Pré-processamento pelo SKLearn)"
      ]
    },
    {
      "cell_type": "markdown",
      "metadata": {
        "id": "GR2LCnjLH0xC"
      },
      "source": [
        "### 2.1 Corrigir formato dos Dados\n",
        "\n"
      ]
    },
    {
      "cell_type": "markdown",
      "metadata": {
        "id": "kbPhgQ16iDHe"
      },
      "source": [
        "Substituir Booleanos por inteiros"
      ]
    },
    {
      "cell_type": "code",
      "metadata": {
        "id": "UhcZRChPfZlO"
      },
      "source": [
        "df.replace([True,False],[1,0], inplace=True)"
      ],
      "execution_count": null,
      "outputs": []
    },
    {
      "cell_type": "markdown",
      "metadata": {
        "id": "4dzLDIE8jrUC"
      },
      "source": [
        "Percebemos a ocorrência de valores descritos como `normal`.\n",
        "\\\n",
        "Devemos corrigir e colocar como sendo valor `0`."
      ]
    },
    {
      "cell_type": "markdown",
      "metadata": {
        "id": "bvyjHV7Elhcr"
      },
      "source": [
        "Substituir `object` por `int` nas colunas relevantes"
      ]
    },
    {
      "cell_type": "code",
      "metadata": {
        "id": "STfm-FBQkTXx"
      },
      "source": [
        "df['banheiros'] = df['banheiros'].astype(int)\n",
        "df['andares'] = df['andares'].astype(int)\n",
        "df['vagasGaragem'] = df['vagasGaragem'].astype(int)\n",
        "df['area'] = pd.to_numeric(df['area'])\n",
        "df['areaUtilizada'] = pd.to_numeric(df['areaUtilizada'])"
      ],
      "execution_count": null,
      "outputs": []
    },
    {
      "cell_type": "code",
      "metadata": {
        "id": "OJNZMQ2bnmGr",
        "outputId": "b8f7f4f0-fb10-4ad5-9792-aa2d54e6a355",
        "colab": {
          "base_uri": "https://localhost:8080/"
        }
      },
      "source": [
        "df.info()"
      ],
      "execution_count": null,
      "outputs": [
        {
          "output_type": "stream",
          "text": [
            "<class 'pandas.core.frame.DataFrame'>\n",
            "RangeIndex: 25164 entries, 0 to 25163\n",
            "Data columns (total 27 columns):\n",
            " #   Column              Non-Null Count  Dtype \n",
            "---  ------              --------------  ----- \n",
            " 0   cidade              25164 non-null  object\n",
            " 1   estado              25164 non-null  object\n",
            " 2   quintal             25164 non-null  int64 \n",
            " 3   churrasqueira       25164 non-null  int64 \n",
            " 4   banheiros           25164 non-null  int64 \n",
            " 5   banheira            25164 non-null  int64 \n",
            " 6   quartos             25164 non-null  int64 \n",
            " 7   lareira             25164 non-null  int64 \n",
            " 8   andares             25164 non-null  int64 \n",
            " 9   mobilhado           25164 non-null  int64 \n",
            " 10  jardim              25164 non-null  int64 \n",
            " 11  estacionamento      25164 non-null  int64 \n",
            " 12  academia            25164 non-null  int64 \n",
            " 13  jacuzzi             25164 non-null  int64 \n",
            " 14  vistaMontanhas      25164 non-null  int64 \n",
            " 15  vagasGaragem        25164 non-null  int64 \n",
            " 16  salaoFestas         25164 non-null  int64 \n",
            " 17  parquinho           25164 non-null  int64 \n",
            " 18  piscina             25164 non-null  int64 \n",
            " 19  sauna               25164 non-null  int64 \n",
            " 20  isolamentoAcustico  25164 non-null  int64 \n",
            " 21  quadra              25164 non-null  int64 \n",
            " 22  suites              25164 non-null  int64 \n",
            " 23  quadraTenis         25164 non-null  int64 \n",
            " 24  area                25164 non-null  int64 \n",
            " 25  andar               25164 non-null  int64 \n",
            " 26  areaUtilizada       25164 non-null  int64 \n",
            "dtypes: int64(25), object(2)\n",
            "memory usage: 5.2+ MB\n"
          ],
          "name": "stdout"
        }
      ]
    },
    {
      "cell_type": "markdown",
      "metadata": {
        "id": "xp_k71RjnvNo"
      },
      "source": [
        "Observar que deixamos `cidade` e `estado` para serem \"encodadas\" mais adiante pelo método `\n",
        "sklearn.preprocessing.LabelEncoder`."
      ]
    },
    {
      "cell_type": "markdown",
      "metadata": {
        "id": "XoTDWqjQrU1d"
      },
      "source": [
        "### 2.2 Encodar variáveis categóricas (TODO)"
      ]
    },
    {
      "cell_type": "code",
      "metadata": {
        "id": "sm-W1yhjrmtL"
      },
      "source": [
        "from sklearn.preprocessing import LabelEncoder #Encode a categorcal values\n",
        "from sklearn.preprocessing import OneHotEncoder #Dummy variables\n",
        "\n",
        "le = LabelEncoder()\n",
        "\n",
        "for column in df.columns:\n",
        "    if df[column].dtypes == \"bool\":\n",
        "        df[column] = le.fit_transform(df[column])"
      ],
      "execution_count": null,
      "outputs": []
    },
    {
      "cell_type": "code",
      "metadata": {
        "id": "IgBU8hHmfMNN",
        "outputId": "b417f785-bcb4-4265-a527-5bfd8dd33021",
        "colab": {
          "base_uri": "https://localhost:8080/"
        }
      },
      "source": [
        "df.head()"
      ],
      "execution_count": null,
      "outputs": [
        {
          "output_type": "execute_result",
          "data": {
            "text/html": [
              "<div>\n",
              "<style scoped>\n",
              "    .dataframe tbody tr th:only-of-type {\n",
              "        vertical-align: middle;\n",
              "    }\n",
              "\n",
              "    .dataframe tbody tr th {\n",
              "        vertical-align: top;\n",
              "    }\n",
              "\n",
              "    .dataframe thead th {\n",
              "        text-align: right;\n",
              "    }\n",
              "</style>\n",
              "<table border=\"1\" class=\"dataframe\">\n",
              "  <thead>\n",
              "    <tr style=\"text-align: right;\">\n",
              "      <th></th>\n",
              "      <th>cidade</th>\n",
              "      <th>estado</th>\n",
              "      <th>quintal</th>\n",
              "      <th>churrasqueira</th>\n",
              "      <th>banheiros</th>\n",
              "      <th>banheira</th>\n",
              "      <th>quartos</th>\n",
              "      <th>lareira</th>\n",
              "      <th>andares</th>\n",
              "      <th>mobilhado</th>\n",
              "      <th>jardim</th>\n",
              "      <th>estacionamento</th>\n",
              "      <th>academia</th>\n",
              "      <th>jacuzzi</th>\n",
              "      <th>vistaMontanhas</th>\n",
              "      <th>vagasGaragem</th>\n",
              "      <th>salaoFestas</th>\n",
              "      <th>parquinho</th>\n",
              "      <th>piscina</th>\n",
              "      <th>sauna</th>\n",
              "      <th>isolamentoAcustico</th>\n",
              "      <th>quadra</th>\n",
              "      <th>suites</th>\n",
              "      <th>quadraTenis</th>\n",
              "      <th>area</th>\n",
              "      <th>andar</th>\n",
              "      <th>areaUtilizada</th>\n",
              "    </tr>\n",
              "  </thead>\n",
              "  <tbody>\n",
              "    <tr>\n",
              "      <th>0</th>\n",
              "      <td>São Paulo</td>\n",
              "      <td>São Paulo</td>\n",
              "      <td>0</td>\n",
              "      <td>0</td>\n",
              "      <td>1</td>\n",
              "      <td>0</td>\n",
              "      <td>2</td>\n",
              "      <td>0</td>\n",
              "      <td>1</td>\n",
              "      <td>0</td>\n",
              "      <td>0</td>\n",
              "      <td>0</td>\n",
              "      <td>0</td>\n",
              "      <td>0</td>\n",
              "      <td>0</td>\n",
              "      <td>1</td>\n",
              "      <td>0</td>\n",
              "      <td>0</td>\n",
              "      <td>0</td>\n",
              "      <td>0</td>\n",
              "      <td>0</td>\n",
              "      <td>0</td>\n",
              "      <td>1</td>\n",
              "      <td>0</td>\n",
              "      <td>45</td>\n",
              "      <td>0</td>\n",
              "      <td>45</td>\n",
              "    </tr>\n",
              "    <tr>\n",
              "      <th>1</th>\n",
              "      <td>Florianópolis</td>\n",
              "      <td>Santa Catarina</td>\n",
              "      <td>0</td>\n",
              "      <td>0</td>\n",
              "      <td>3</td>\n",
              "      <td>0</td>\n",
              "      <td>3</td>\n",
              "      <td>0</td>\n",
              "      <td>1</td>\n",
              "      <td>0</td>\n",
              "      <td>0</td>\n",
              "      <td>0</td>\n",
              "      <td>0</td>\n",
              "      <td>0</td>\n",
              "      <td>0</td>\n",
              "      <td>1</td>\n",
              "      <td>0</td>\n",
              "      <td>0</td>\n",
              "      <td>0</td>\n",
              "      <td>0</td>\n",
              "      <td>0</td>\n",
              "      <td>0</td>\n",
              "      <td>1</td>\n",
              "      <td>0</td>\n",
              "      <td>140</td>\n",
              "      <td>0</td>\n",
              "      <td>140</td>\n",
              "    </tr>\n",
              "    <tr>\n",
              "      <th>2</th>\n",
              "      <td>Rio de Janeiro</td>\n",
              "      <td>Rio de Janeiro</td>\n",
              "      <td>0</td>\n",
              "      <td>0</td>\n",
              "      <td>3</td>\n",
              "      <td>0</td>\n",
              "      <td>3</td>\n",
              "      <td>0</td>\n",
              "      <td>1</td>\n",
              "      <td>0</td>\n",
              "      <td>0</td>\n",
              "      <td>0</td>\n",
              "      <td>0</td>\n",
              "      <td>0</td>\n",
              "      <td>0</td>\n",
              "      <td>2</td>\n",
              "      <td>0</td>\n",
              "      <td>0</td>\n",
              "      <td>0</td>\n",
              "      <td>0</td>\n",
              "      <td>0</td>\n",
              "      <td>0</td>\n",
              "      <td>1</td>\n",
              "      <td>0</td>\n",
              "      <td>100</td>\n",
              "      <td>0</td>\n",
              "      <td>100</td>\n",
              "    </tr>\n",
              "    <tr>\n",
              "      <th>3</th>\n",
              "      <td>Campinas</td>\n",
              "      <td>São Paulo</td>\n",
              "      <td>0</td>\n",
              "      <td>0</td>\n",
              "      <td>2</td>\n",
              "      <td>0</td>\n",
              "      <td>1</td>\n",
              "      <td>0</td>\n",
              "      <td>1</td>\n",
              "      <td>0</td>\n",
              "      <td>0</td>\n",
              "      <td>0</td>\n",
              "      <td>0</td>\n",
              "      <td>0</td>\n",
              "      <td>0</td>\n",
              "      <td>1</td>\n",
              "      <td>0</td>\n",
              "      <td>0</td>\n",
              "      <td>1</td>\n",
              "      <td>1</td>\n",
              "      <td>0</td>\n",
              "      <td>0</td>\n",
              "      <td>0</td>\n",
              "      <td>0</td>\n",
              "      <td>80</td>\n",
              "      <td>0</td>\n",
              "      <td>80</td>\n",
              "    </tr>\n",
              "    <tr>\n",
              "      <th>4</th>\n",
              "      <td>São Paulo</td>\n",
              "      <td>São Paulo</td>\n",
              "      <td>0</td>\n",
              "      <td>1</td>\n",
              "      <td>3</td>\n",
              "      <td>0</td>\n",
              "      <td>2</td>\n",
              "      <td>0</td>\n",
              "      <td>1</td>\n",
              "      <td>0</td>\n",
              "      <td>0</td>\n",
              "      <td>0</td>\n",
              "      <td>0</td>\n",
              "      <td>0</td>\n",
              "      <td>0</td>\n",
              "      <td>2</td>\n",
              "      <td>1</td>\n",
              "      <td>1</td>\n",
              "      <td>1</td>\n",
              "      <td>1</td>\n",
              "      <td>0</td>\n",
              "      <td>1</td>\n",
              "      <td>2</td>\n",
              "      <td>0</td>\n",
              "      <td>69</td>\n",
              "      <td>0</td>\n",
              "      <td>69</td>\n",
              "    </tr>\n",
              "  </tbody>\n",
              "</table>\n",
              "</div>"
            ],
            "text/plain": [
              "           cidade          estado  quintal  ...  area  andar  areaUtilizada\n",
              "0       São Paulo       São Paulo        0  ...    45      0             45\n",
              "1   Florianópolis  Santa Catarina        0  ...   140      0            140\n",
              "2  Rio de Janeiro  Rio de Janeiro        0  ...   100      0            100\n",
              "3        Campinas       São Paulo        0  ...    80      0             80\n",
              "4       São Paulo       São Paulo        0  ...    69      0             69\n",
              "\n",
              "[5 rows x 27 columns]"
            ]
          },
          "metadata": {
            "tags": []
          },
          "execution_count": 185
        }
      ]
    },
    {
      "cell_type": "markdown",
      "metadata": {
        "id": "3ectC7IUrcTe"
      },
      "source": [
        "### 2.3 Normalizar Dados (TODO)"
      ]
    },
    {
      "cell_type": "code",
      "metadata": {
        "id": "ELjDRZLbrnRG"
      },
      "source": [
        ""
      ],
      "execution_count": null,
      "outputs": []
    },
    {
      "cell_type": "markdown",
      "metadata": {
        "id": "JxxSX1tvrjdG"
      },
      "source": [
        "### 2.4 Reescalar Dados (TODO)"
      ]
    },
    {
      "cell_type": "code",
      "metadata": {
        "id": "ItT99wX1NHgc"
      },
      "source": [
        ""
      ],
      "execution_count": null,
      "outputs": []
    },
    {
      "cell_type": "markdown",
      "metadata": {
        "id": "o7_MHHgfxFVI"
      },
      "source": [
        "---\n",
        "\n",
        "# **Referências**:\n",
        "* https://machinelearningmastery.com/data-preparation-techniques-for-machine-learning/\n",
        "* FACELI, Kátia et al. Inteligência artificial: Uma abordagem de aprendizado de máquina. 2011."
      ]
    }
  ]
}
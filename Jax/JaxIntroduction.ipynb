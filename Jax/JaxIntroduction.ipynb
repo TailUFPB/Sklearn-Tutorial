{
 "cells": [
  {
   "cell_type": "markdown",
   "metadata": {},
   "source": [
    "# <p style=\"color:darkblue\">Introdução ao Jax</p>\n",
    "\n",
    "<hr>\n",
    "\n",
    "\n",
    "\n",
    "\n",
    "* Neste Jupyter-Notebook faremos um breve overview sobre a biblioteca Jax, mostrando um pouco sobre como ela é organizada e as vantagens que ela traz.\n"
   ]
  },
  {
   "cell_type": "markdown",
   "metadata": {},
   "source": [
    "## 1. Quem somos?\n",
    "<p align=\"center\">\n",
    "    <img src=\"https://github.com/TailUFPB/Tutorials/raw/main/Pycaret/imgs/tail5.jpg\" width=\"300px\">\n",
    "</p>\n",
    "\n",
    "* Somos membros da **TAIL - Technology and Artificial Intelligence League**, a primeira Liga de inteligência artificial e tecnologia do nordeste, sediada na UFPB. Fizemos esse tutorial pra introduzir essa biblioteca, com alguns exemplos práticos."
   ]
  },
  {
   "cell_type": "markdown",
   "metadata": {},
   "source": [
    "## 2. Por que Jax?\n",
    "<p align=\"center\">\n",
    "    <img src=\"https://repository-images.githubusercontent.com/154739597/90607180-e100-11e9-8642-c65819bec604\" width=\"300px\">\n",
    "</p>\n",
    "\n",
    "Jax é uma biblioteca Python construída para cálculos numéricos de alta performance, usada especialmente em pesquisa voltada para Machine Learning. Parte da biblioteca é baseada em Numpy e tem as seguintes vantagens:\n",
    "\n",
    "* Simplicidade.\n",
    "* Flexibilidade.\n",
    "\n",
    "Desvantagens / pontos a serem levados em consideração:\n",
    "\n",
    "* É uma pesquisa ainda em desenvolvimento.\n",
    "* Embora seja feita pelo Google, não é um produto oficial, estando sujeito a bugs e limitações.\n",
    "\n",
    "Além disso, JAX também inclui um outro conjunto de módulos que ajudam nos cálculos envolvendo Machine Learning. Entre eles, podemos listar os seguinte:\n",
    "* Diferenciação\n",
    "    * Tem suporte para derivadas de funções numéricas\n",
    "* Vectorização\n",
    "    * Tem suporte para cálculos vetorizados e paralelizados.\n",
    "* Compilação-JIT\n",
    "## TERMINAR"
   ]
  },
  {
   "cell_type": "markdown",
   "metadata": {},
   "source": [
    "## 3. Instalando Jax"
   ]
  },
  {
   "cell_type": "code",
   "execution_count": 4,
   "metadata": {},
   "outputs": [
    {
     "name": "stdout",
     "output_type": "stream",
     "text": [
      "Requirement already satisfied: jax in /home/itamar/anaconda3/lib/python3.7/site-packages (0.2.7)\n",
      "Requirement already satisfied: numpy>=1.12 in /home/itamar/anaconda3/lib/python3.7/site-packages (from jax) (1.17.4)\n",
      "Requirement already satisfied: opt-einsum in /home/itamar/anaconda3/lib/python3.7/site-packages (from jax) (3.1.0)\n",
      "Requirement already satisfied: absl-py in /home/itamar/anaconda3/lib/python3.7/site-packages (from jax) (0.8.1)\n",
      "Requirement already satisfied: six in /home/itamar/anaconda3/lib/python3.7/site-packages (from absl-py->jax) (1.13.0)\n",
      "\u001b[33mWARNING: You are using pip version 20.2.4; however, version 20.3.3 is available.\n",
      "You should consider upgrading via the '/home/itamar/anaconda3/bin/python -m pip install --upgrade pip' command.\u001b[0m\n",
      "Requirement already satisfied: jaxlib in /home/itamar/anaconda3/lib/python3.7/site-packages (0.1.57)\n",
      "Requirement already satisfied: absl-py in /home/itamar/anaconda3/lib/python3.7/site-packages (from jaxlib) (0.8.1)\n",
      "Requirement already satisfied: numpy>=1.12 in /home/itamar/anaconda3/lib/python3.7/site-packages (from jaxlib) (1.17.4)\n",
      "Requirement already satisfied: flatbuffers in /home/itamar/anaconda3/lib/python3.7/site-packages (from jaxlib) (1.12)\n",
      "Requirement already satisfied: scipy in /home/itamar/anaconda3/lib/python3.7/site-packages (from jaxlib) (1.4.1)\n",
      "Requirement already satisfied: six in /home/itamar/anaconda3/lib/python3.7/site-packages (from absl-py->jaxlib) (1.13.0)\n",
      "\u001b[33mWARNING: You are using pip version 20.2.4; however, version 20.3.3 is available.\n",
      "You should consider upgrading via the '/home/itamar/anaconda3/bin/python -m pip install --upgrade pip' command.\u001b[0m\n"
     ]
    }
   ],
   "source": [
    "!pip install jax && pip install jaxlib"
   ]
  },
  {
   "cell_type": "markdown",
   "metadata": {},
   "source": [
    "Se tudo der certo, conseguiremos fazer os próximos imports sem erros."
   ]
  },
  {
   "cell_type": "code",
   "execution_count": 13,
   "metadata": {},
   "outputs": [],
   "source": [
    "import jax.numpy as jnp\n",
    "from jax import grad, jit, vmap\n",
    "from jax import random\n",
    "import numpy as np"
   ]
  },
  {
   "cell_type": "markdown",
   "metadata": {},
   "source": [
    "## Referências\n",
    "\n",
    "* https://towardsdatascience.com/jax-differentiable-computing-by-google-78310859b4ad\n",
    "* https://deepmind.com/blog/article/using-jax-to-accelerate-our-research\n",
    "* https://jax.readthedocs.io/en/latest/notebooks/quickstart.html"
   ]
  }
 ],
 "metadata": {
  "kernelspec": {
   "display_name": "Python 3",
   "language": "python",
   "name": "python3"
  },
  "language_info": {
   "codemirror_mode": {
    "name": "ipython",
    "version": 3
   },
   "file_extension": ".py",
   "mimetype": "text/x-python",
   "name": "python",
   "nbconvert_exporter": "python",
   "pygments_lexer": "ipython3",
   "version": "3.7.5"
  }
 },
 "nbformat": 4,
 "nbformat_minor": 2
}
